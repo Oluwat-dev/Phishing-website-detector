{
  "cells": [
    {
      "cell_type": "markdown",
      "metadata": {
        "id": "view-in-github",
        "colab_type": "text"
      },
      "source": [
        "<a href=\"https://colab.research.google.com/github/Oluwat-dev/Phishing-website-detector/blob/main/malfile.ipynb\" target=\"_parent\"><img src=\"https://colab.research.google.com/assets/colab-badge.svg\" alt=\"Open In Colab\"/></a>"
      ]
    },
    {
      "cell_type": "markdown",
      "id": "d3f95463",
      "metadata": {
        "id": "d3f95463",
        "papermill": {
          "duration": 0.044575,
          "end_time": "2022-03-19T14:32:08.868850",
          "exception": false,
          "start_time": "2022-03-19T14:32:08.824275",
          "status": "completed"
        },
        "tags": []
      },
      "source": [
        "### Teesside University MSc Artificial Intelligence<br>\n",
        "\n",
        "---\n",
        "\n",
        "\n",
        "\n",
        "\n",
        "## Machine Learning ICA\n",
        "\n",
        "\n",
        "# Name: Aluko Oluwatobi Adebowale\n",
        "# Student Number:D3724404\n",
        "## Phishing Website Detection Using Machine Learning Models"
      ]
    },
    {
      "cell_type": "markdown",
      "id": "88c8625a",
      "metadata": {
        "id": "88c8625a",
        "papermill": {
          "duration": 0.045714,
          "end_time": "2022-03-19T14:32:08.959446",
          "exception": false,
          "start_time": "2022-03-19T14:32:08.913732",
          "status": "completed"
        },
        "tags": []
      },
      "source": [
        "# **Context**\n",
        "Malicious URLs or malicious website is a very serious threat to cybersecurity. Malicious URLs host unsolicited content (spam, phishing, drive-by downloads, etc.) and lure unsuspecting users to become victims of scams (monetary loss, theft of private information, and malware installation), and cause losses of billions of dollars every year. We have collected this dataset to include a large number of examples of Malicious URLs so that a machine learning-based model can be developed to identify malicious urls so that we can stop them in advance before infecting computer system or spreading through inteinternet.\n",
        "\n",
        "# **Content**\n",
        "I have collected a huge dataset of 651,191 URLs, out of which 428103 benign or safe URLs, 96457 defacement URLs, 94111 phishing URLs, and 32520 malware URLs. Figure 2 depicts their distribution in terms of percentage. As we know one of the most crucial tasks is to curate the dataset for a machine learning project. This dataset has been curated from five different sources.\n",
        "\n",
        "For collecting benign, phishing, malware and defacement URLs we have used [URL dataset (ISCX-URL-2016)](https://www.unb.ca/cic/datasets/url-2016.html) For increasing phishing and malware URLs, I have used [Malware domain black list dataset](http://www.malwaredomains.com/wordpress/?page_id=66). I have increased benign URLs using [faizan git repo](https://github.com/faizann24/Using-machine-learning-to-detect-malicious-URLs/tree/master/data) At last, we have increased more number of phishing URLs using [Phishtank dataset](https://www.phishtank.com/developer_info.php) and [PhishStorm dataset](https://research.aalto.fi/en/datasets/phishstorm--phishing--legitimate-url-dataset(f49465b2-c68a-4182-9171-075f0ed797d5).html) As I have told you that dataset is collected from different sources. So firstly, I have collected the URLs from different sources into a separate data frame and finally merge them to retain only URLs and their class type."
      ]
    },
    {
      "cell_type": "markdown",
      "id": "42fcbcb9",
      "metadata": {
        "id": "42fcbcb9",
        "papermill": {
          "duration": 0.044634,
          "end_time": "2022-03-19T14:32:09.047456",
          "exception": false,
          "start_time": "2022-03-19T14:32:09.002822",
          "status": "completed"
        },
        "tags": []
      },
      "source": [
        "A URL consists of the top-level domain, hostname, paths, and port of the web\n",
        "address, as in the following diagram:"
      ]
    },
    {
      "cell_type": "markdown",
      "id": "405a2f07",
      "metadata": {
        "id": "405a2f07",
        "papermill": {
          "duration": 0.045299,
          "end_time": "2022-03-19T14:32:09.139783",
          "exception": false,
          "start_time": "2022-03-19T14:32:09.094484",
          "status": "completed"
        },
        "tags": []
      },
      "source": [
        "![url](https://user-images.githubusercontent.com/70811337/150021474-4ba64b34-1d09-427f-9cf6-25508571d18d.PNG)"
      ]
    },
    {
      "cell_type": "markdown",
      "id": "2f136ed0",
      "metadata": {
        "id": "2f136ed0",
        "papermill": {
          "duration": 0.042729,
          "end_time": "2022-03-19T14:32:09.227185",
          "exception": false,
          "start_time": "2022-03-19T14:32:09.184456",
          "status": "completed"
        },
        "tags": []
      },
      "source": [
        "<h2 style=\"width: 100%;\n",
        "    margin: 0;\n",
        "    padding: 0;\n",
        "    text-align: center;\">---- Table of contents ----</h2>\n",
        "\n",
        "1. [Importing Libraries](#1)\n",
        "2. [Load Dataset](#2)\n",
        "3. [Meta information of Dataframe](#3)\n",
        "4. [Checking for NaN values](#4)\n",
        "5. [Feature Extraction](#5)\n",
        "6. [Train & Test Split](#6)\n",
        "7. [Training models](#7)\n",
        "  <ul>\n",
        "      <li>✔️ Decision Tree Classifier</li>\n",
        "      <li>✔️ Random Forest Classifier</li>\n",
        "      <li>✔️ AdaBoost Classifier</li>\n",
        "      <li>✔️ KNeighbors Classifier</li>\n",
        "      <li>✔️ SGD Classifier</li>\n",
        "      <li>✔️ Extra Trees Classifier</li>\n",
        "      <li>✔️ Gaussian NB</li>\n",
        "  </ul>\n",
        "8. [Final Report](#8)"
      ]
    },
    {
      "cell_type": "code",
      "execution_count": null,
      "id": "e237e93f",
      "metadata": {
        "execution": {
          "iopub.execute_input": "2022-03-19T14:32:09.323167Z",
          "iopub.status.busy": "2022-03-19T14:32:09.322125Z",
          "iopub.status.idle": "2022-03-19T14:32:18.249508Z",
          "shell.execute_reply": "2022-03-19T14:32:18.248736Z",
          "shell.execute_reply.started": "2022-03-19T14:02:01.481317Z"
        },
        "id": "e237e93f",
        "papermill": {
          "duration": 8.979924,
          "end_time": "2022-03-19T14:32:18.249655",
          "exception": false,
          "start_time": "2022-03-19T14:32:09.269731",
          "status": "completed"
        },
        "tags": []
      },
      "outputs": [],
      "source": [
        "# extract the domain name from a URL (Extract the top level domain (TLD) from the URL given).\n",
        "\n",
        "!pip install tld"
      ]
    },
    {
      "cell_type": "markdown",
      "id": "cd3d013f",
      "metadata": {
        "id": "cd3d013f",
        "papermill": {
          "duration": 0.043639,
          "end_time": "2022-03-19T14:32:18.338352",
          "exception": false,
          "start_time": "2022-03-19T14:32:18.294713",
          "status": "completed"
        },
        "tags": []
      },
      "source": [
        "<a id=\"1\"></a> <br>\n",
        "# 📥 Importing Libraries"
      ]
    },
    {
      "cell_type": "code",
      "execution_count": null,
      "id": "57e8571f",
      "metadata": {
        "execution": {
          "iopub.execute_input": "2022-03-19T14:32:18.434325Z",
          "iopub.status.busy": "2022-03-19T14:32:18.433365Z",
          "iopub.status.idle": "2022-03-19T14:32:19.711941Z",
          "shell.execute_reply": "2022-03-19T14:32:19.711413Z",
          "shell.execute_reply.started": "2022-03-19T14:02:11.173640Z"
        },
        "id": "57e8571f",
        "papermill": {
          "duration": 1.329368,
          "end_time": "2022-03-19T14:32:19.712091",
          "exception": false,
          "start_time": "2022-03-19T14:32:18.382723",
          "status": "completed"
        },
        "tags": []
      },
      "outputs": [],
      "source": [
        "import re\n",
        "import numpy as np\n",
        "import pandas as pd\n",
        "import seaborn as sns\n",
        "import matplotlib.pyplot as plt\n",
        "from sklearn import tree\n",
        "\n",
        "from colorama import Fore  #Colorama is a module to color the python outputs\n",
        "\n",
        "from urllib.parse import urlparse\n",
        "# This module defines a standard interface to break Uniform Resource Locator (URL)\n",
        "# strings up in components (addressing scheme, network location, path etc.),\n",
        "# to combine the components back into a URL string,\n",
        "# and to convert a “relative URL” to an absolute URL given a “base URL.”\n",
        "\n",
        "from sklearn.model_selection import train_test_split\n",
        "from sklearn.metrics import confusion_matrix, classification_report, accuracy_score\n",
        "from sklearn.tree import DecisionTreeClassifier\n",
        "from sklearn.ensemble import RandomForestClassifier, AdaBoostClassifier, ExtraTreesClassifier\n",
        "from sklearn.neighbors import KNeighborsClassifier\n",
        "from sklearn.linear_model import SGDClassifier\n",
        "from sklearn.naive_bayes import GaussianNB\n",
        "from tld import get_tld, is_tld"
      ]
    },
    {
      "cell_type": "markdown",
      "id": "baafbc2d",
      "metadata": {
        "id": "baafbc2d",
        "papermill": {
          "duration": 0.043308,
          "end_time": "2022-03-19T14:32:19.800125",
          "exception": false,
          "start_time": "2022-03-19T14:32:19.756817",
          "status": "completed"
        },
        "tags": []
      },
      "source": [
        "<a id=\"2\"></a> <br>\n",
        "# 🗃️ Load Dataset"
      ]
    },
    {
      "cell_type": "code",
      "execution_count": null,
      "id": "08172291",
      "metadata": {
        "execution": {
          "iopub.execute_input": "2022-03-19T14:32:19.892243Z",
          "iopub.status.busy": "2022-03-19T14:32:19.891626Z",
          "iopub.status.idle": "2022-03-19T14:32:21.354995Z",
          "shell.execute_reply": "2022-03-19T14:32:21.355586Z",
          "shell.execute_reply.started": "2022-03-19T14:02:12.476516Z"
        },
        "id": "08172291",
        "papermill": {
          "duration": 1.511564,
          "end_time": "2022-03-19T14:32:21.355752",
          "exception": false,
          "start_time": "2022-03-19T14:32:19.844188",
          "status": "completed"
        },
        "tags": []
      },
      "outputs": [],
      "source": [
        "data = pd.read_csv('/content/malicious_phish.csv')\n",
        "data.head(20)"
      ]
    },
    {
      "cell_type": "markdown",
      "id": "7551ef35",
      "metadata": {
        "id": "7551ef35",
        "papermill": {
          "duration": 0.044322,
          "end_time": "2022-03-19T14:32:21.445630",
          "exception": false,
          "start_time": "2022-03-19T14:32:21.401308",
          "status": "completed"
        },
        "tags": []
      },
      "source": [
        "Website **defacements** are the unauthorized modification of web pages, including the addition, removal, or alteration of existing content. These attacks are commonly carried out by hacktivists, who compromise a website or web server and replace or alter the hosted website information with their own messages."
      ]
    },
    {
      "cell_type": "markdown",
      "id": "120e3356",
      "metadata": {
        "id": "120e3356",
        "papermill": {
          "duration": 0.04416,
          "end_time": "2022-03-19T14:32:21.534395",
          "exception": false,
          "start_time": "2022-03-19T14:32:21.490235",
          "status": "completed"
        },
        "tags": []
      },
      "source": [
        "**Phishing** is a type of social engineering attack often used to steal user data, including login credentials and credit card numbers. It occurs when an attacker, masquerading as a trusted entity, dupes a victim into opening an email, instant message, or text message"
      ]
    },
    {
      "cell_type": "markdown",
      "id": "d5653fbf",
      "metadata": {
        "id": "d5653fbf",
        "papermill": {
          "duration": 0.044691,
          "end_time": "2022-03-19T14:32:21.623666",
          "exception": false,
          "start_time": "2022-03-19T14:32:21.578975",
          "status": "completed"
        },
        "tags": []
      },
      "source": [
        "**Malware** (short for “malicious software”) is a file or code, typically delivered over a network, that infects, explores, steals or conducts virtually any behavior an attacker wants. And because malware comes in so many variants, there are numerous methods to infect computer systems."
      ]
    },
    {
      "cell_type": "markdown",
      "id": "ca29abb5",
      "metadata": {
        "id": "ca29abb5",
        "papermill": {
          "duration": 0.044577,
          "end_time": "2022-03-19T14:32:21.713111",
          "exception": false,
          "start_time": "2022-03-19T14:32:21.668534",
          "status": "completed"
        },
        "tags": []
      },
      "source": [
        "<a id=\"3\"></a> <br>\n",
        "# 📝 Meta information of Dataframe"
      ]
    },
    {
      "cell_type": "code",
      "execution_count": null,
      "id": "060b4a64",
      "metadata": {
        "execution": {
          "iopub.execute_input": "2022-03-19T14:32:21.871685Z",
          "iopub.status.busy": "2022-03-19T14:32:21.871065Z",
          "iopub.status.idle": "2022-03-19T14:32:21.892183Z",
          "shell.execute_reply": "2022-03-19T14:32:21.892597Z",
          "shell.execute_reply.started": "2022-03-19T14:02:14.332638Z"
        },
        "id": "060b4a64",
        "papermill": {
          "duration": 0.134572,
          "end_time": "2022-03-19T14:32:21.892786",
          "exception": false,
          "start_time": "2022-03-19T14:32:21.758214",
          "status": "completed"
        },
        "tags": []
      },
      "outputs": [],
      "source": [
        "data.info()"
      ]
    },
    {
      "cell_type": "markdown",
      "id": "e368886a",
      "metadata": {
        "id": "e368886a",
        "papermill": {
          "duration": 0.045606,
          "end_time": "2022-03-19T14:32:21.983457",
          "exception": false,
          "start_time": "2022-03-19T14:32:21.937851",
          "status": "completed"
        },
        "tags": []
      },
      "source": [
        "<a id=\"4\"></a>\n",
        "# 🔎 Checking for NaN values"
      ]
    },
    {
      "cell_type": "code",
      "execution_count": null,
      "id": "c84e2bc9",
      "metadata": {
        "execution": {
          "iopub.execute_input": "2022-03-19T14:32:22.077539Z",
          "iopub.status.busy": "2022-03-19T14:32:22.076613Z",
          "iopub.status.idle": "2022-03-19T14:32:22.148531Z",
          "shell.execute_reply": "2022-03-19T14:32:22.148966Z",
          "shell.execute_reply.started": "2022-03-19T14:02:14.419656Z"
        },
        "id": "c84e2bc9",
        "papermill": {
          "duration": 0.120189,
          "end_time": "2022-03-19T14:32:22.149136",
          "exception": false,
          "start_time": "2022-03-19T14:32:22.028947",
          "status": "completed"
        },
        "tags": []
      },
      "outputs": [],
      "source": [
        "data.isnull().sum()"
      ]
    },
    {
      "cell_type": "code",
      "execution_count": null,
      "id": "750ce304",
      "metadata": {
        "execution": {
          "iopub.execute_input": "2022-03-19T14:32:22.244116Z",
          "iopub.status.busy": "2022-03-19T14:32:22.243190Z",
          "iopub.status.idle": "2022-03-19T14:32:22.285452Z",
          "shell.execute_reply": "2022-03-19T14:32:22.284970Z",
          "shell.execute_reply.started": "2022-03-19T14:02:14.491689Z"
        },
        "id": "750ce304",
        "papermill": {
          "duration": 0.091234,
          "end_time": "2022-03-19T14:32:22.285592",
          "exception": false,
          "start_time": "2022-03-19T14:32:22.194358",
          "status": "completed"
        },
        "tags": []
      },
      "outputs": [],
      "source": [
        "count = data.type.value_counts()\n",
        "count"
      ]
    },
    {
      "cell_type": "code",
      "execution_count": null,
      "id": "caaf55f6",
      "metadata": {
        "execution": {
          "iopub.execute_input": "2022-03-19T14:32:22.380948Z",
          "iopub.status.busy": "2022-03-19T14:32:22.380369Z",
          "iopub.status.idle": "2022-03-19T14:32:22.383769Z",
          "shell.execute_reply": "2022-03-19T14:32:22.384277Z",
          "shell.execute_reply.started": "2022-03-19T14:02:14.536477Z"
        },
        "id": "caaf55f6",
        "papermill": {
          "duration": 0.053751,
          "end_time": "2022-03-19T14:32:22.384440",
          "exception": false,
          "start_time": "2022-03-19T14:32:22.330689",
          "status": "completed"
        },
        "tags": []
      },
      "outputs": [],
      "source": [
        "x=count.index\n",
        "x"
      ]
    },
    {
      "cell_type": "code",
      "execution_count": null,
      "id": "bc764aee",
      "metadata": {
        "execution": {
          "iopub.execute_input": "2022-03-19T14:32:22.486710Z",
          "iopub.status.busy": "2022-03-19T14:32:22.486087Z",
          "iopub.status.idle": "2022-03-19T14:32:22.709315Z",
          "shell.execute_reply": "2022-03-19T14:32:22.709728Z",
          "shell.execute_reply.started": "2022-03-19T14:02:14.543882Z"
        },
        "id": "bc764aee",
        "papermill": {
          "duration": 0.279931,
          "end_time": "2022-03-19T14:32:22.709912",
          "exception": false,
          "start_time": "2022-03-19T14:32:22.429981",
          "status": "completed"
        },
        "tags": []
      },
      "outputs": [],
      "source": [
        "sns.barplot(x=count.index, y=count)\n",
        "plt.xlabel('Types')\n",
        "plt.ylabel('Count');"
      ]
    },
    {
      "cell_type": "markdown",
      "id": "bcdc4dea",
      "metadata": {
        "id": "bcdc4dea",
        "papermill": {
          "duration": 0.046065,
          "end_time": "2022-03-19T14:32:22.802188",
          "exception": false,
          "start_time": "2022-03-19T14:32:22.756123",
          "status": "completed"
        },
        "tags": []
      },
      "source": [
        "<h4>first have to omit the (www.) from the URL which is in fact a sub domain in itself.</h4>"
      ]
    },
    {
      "cell_type": "markdown",
      "id": "ca4da286",
      "metadata": {
        "id": "ca4da286",
        "papermill": {
          "duration": 0.045836,
          "end_time": "2022-03-19T14:32:22.895066",
          "exception": false,
          "start_time": "2022-03-19T14:32:22.849230",
          "status": "completed"
        },
        "tags": []
      },
      "source": [
        "![Whats a Subdom.jpeg](attachment:c0f7c696-0c69-4337-bf3f-979320f433c2.jpeg)"
      ]
    },
    {
      "cell_type": "code",
      "execution_count": null,
      "id": "6e21cf4f",
      "metadata": {
        "execution": {
          "iopub.execute_input": "2022-03-19T14:32:22.994455Z",
          "iopub.status.busy": "2022-03-19T14:32:22.993816Z",
          "iopub.status.idle": "2022-03-19T14:32:23.916658Z",
          "shell.execute_reply": "2022-03-19T14:32:23.917154Z",
          "shell.execute_reply.started": "2022-03-19T14:02:14.784578Z"
        },
        "id": "6e21cf4f",
        "papermill": {
          "duration": 0.97635,
          "end_time": "2022-03-19T14:32:23.917329",
          "exception": false,
          "start_time": "2022-03-19T14:32:22.940979",
          "status": "completed"
        },
        "tags": []
      },
      "outputs": [],
      "source": [
        "data['url'] = data['url'].replace('www.', '', regex=True)\n",
        "data\n"
      ]
    },
    {
      "cell_type": "code",
      "execution_count": null,
      "id": "06e07038",
      "metadata": {
        "execution": {
          "iopub.execute_input": "2022-03-19T14:32:24.017289Z",
          "iopub.status.busy": "2022-03-19T14:32:24.016628Z",
          "iopub.status.idle": "2022-03-19T14:32:24.024743Z",
          "shell.execute_reply": "2022-03-19T14:32:24.025218Z",
          "shell.execute_reply.started": "2022-03-19T14:02:15.728181Z"
        },
        "id": "06e07038",
        "papermill": {
          "duration": 0.059905,
          "end_time": "2022-03-19T14:32:24.025384",
          "exception": false,
          "start_time": "2022-03-19T14:32:23.965479",
          "status": "completed"
        },
        "tags": []
      },
      "outputs": [],
      "source": [
        "data.head(10)"
      ]
    },
    {
      "cell_type": "code",
      "execution_count": null,
      "id": "5adadad0",
      "metadata": {
        "execution": {
          "iopub.execute_input": "2022-03-19T14:32:24.126536Z",
          "iopub.status.busy": "2022-03-19T14:32:24.125870Z",
          "iopub.status.idle": "2022-03-19T14:32:24.512768Z",
          "shell.execute_reply": "2022-03-19T14:32:24.512326Z",
          "shell.execute_reply.started": "2022-03-19T14:02:15.739499Z"
        },
        "id": "5adadad0",
        "papermill": {
          "duration": 0.439768,
          "end_time": "2022-03-19T14:32:24.512923",
          "exception": false,
          "start_time": "2022-03-19T14:32:24.073155",
          "status": "completed"
        },
        "tags": []
      },
      "outputs": [],
      "source": [
        "rem = {\"Category\": {\"benign\": 0, \"defacement\": 1, \"phishing\":2, \"malware\":3}}\n",
        "data['Category'] = data['type']\n",
        "data = data.replace(rem)\n",
        "data.head(20)"
      ]
    },
    {
      "cell_type": "markdown",
      "id": "b7b9ccee",
      "metadata": {
        "id": "b7b9ccee",
        "papermill": {
          "duration": 0.047511,
          "end_time": "2022-03-19T14:32:24.609164",
          "exception": false,
          "start_time": "2022-03-19T14:32:24.561653",
          "status": "completed"
        },
        "tags": []
      },
      "source": [
        "<a id=\"5\"></a> <br>\n",
        "# 🦾 Feature Extraction"
      ]
    },
    {
      "cell_type": "code",
      "execution_count": null,
      "id": "d48f260b",
      "metadata": {
        "execution": {
          "iopub.execute_input": "2022-03-19T14:32:24.709596Z",
          "iopub.status.busy": "2022-03-19T14:32:24.708977Z",
          "iopub.status.idle": "2022-03-19T14:32:25.023181Z",
          "shell.execute_reply": "2022-03-19T14:32:25.023630Z",
          "shell.execute_reply.started": "2022-03-19T14:02:16.134447Z"
        },
        "id": "d48f260b",
        "papermill": {
          "duration": 0.366764,
          "end_time": "2022-03-19T14:32:25.023810",
          "exception": false,
          "start_time": "2022-03-19T14:32:24.657046",
          "status": "completed"
        },
        "tags": []
      },
      "outputs": [],
      "source": [
        "data['url_len'] = data['url'].apply(lambda x: len(str(x)))"
      ]
    },
    {
      "cell_type": "code",
      "execution_count": null,
      "id": "0c196db4",
      "metadata": {
        "execution": {
          "iopub.execute_input": "2022-03-19T14:32:25.124804Z",
          "iopub.status.busy": "2022-03-19T14:32:25.124217Z",
          "iopub.status.idle": "2022-03-19T14:32:25.132591Z",
          "shell.execute_reply": "2022-03-19T14:32:25.133168Z",
          "shell.execute_reply.started": "2022-03-19T14:02:16.476798Z"
        },
        "id": "0c196db4",
        "papermill": {
          "duration": 0.060597,
          "end_time": "2022-03-19T14:32:25.133334",
          "exception": false,
          "start_time": "2022-03-19T14:32:25.072737",
          "status": "completed"
        },
        "tags": []
      },
      "outputs": [],
      "source": [
        "data.head()"
      ]
    },
    {
      "cell_type": "code",
      "execution_count": null,
      "id": "ac9d1414",
      "metadata": {
        "execution": {
          "iopub.execute_input": "2022-03-19T14:32:25.233510Z",
          "iopub.status.busy": "2022-03-19T14:32:25.232887Z",
          "iopub.status.idle": "2022-03-19T14:32:25.236892Z",
          "shell.execute_reply": "2022-03-19T14:32:25.237402Z",
          "shell.execute_reply.started": "2022-03-19T14:02:16.488807Z"
        },
        "id": "ac9d1414",
        "papermill": {
          "duration": 0.055325,
          "end_time": "2022-03-19T14:32:25.237560",
          "exception": false,
          "start_time": "2022-03-19T14:32:25.182235",
          "status": "completed"
        },
        "tags": []
      },
      "outputs": [],
      "source": [
        "def process_tld(url):\n",
        "    try:\n",
        "#         Extract the top level domain (TLD) from the URL given\n",
        "        res = get_tld(url, as_object = True, fail_silently=False,fix_protocol=True)\n",
        "        pri_domain= res.parsed_url.netloc\n",
        "    except :\n",
        "        pri_domain= None\n",
        "    return pri_domain\n",
        "\n",
        "\n",
        "\n",
        "# netloc : Contains the network location - which includes the domain itself (and subdomain if present),\n",
        "# the port number, along with an optional credentials in form of username:password . Together it may take\n",
        "# form of username:password@domain.com:80"
      ]
    },
    {
      "cell_type": "code",
      "execution_count": null,
      "id": "36aa8a82",
      "metadata": {
        "execution": {
          "iopub.execute_input": "2022-03-19T14:32:25.337060Z",
          "iopub.status.busy": "2022-03-19T14:32:25.336506Z",
          "iopub.status.idle": "2022-03-19T14:32:34.982994Z",
          "shell.execute_reply": "2022-03-19T14:32:34.983662Z",
          "shell.execute_reply.started": "2022-03-19T14:02:16.502671Z"
        },
        "id": "36aa8a82",
        "papermill": {
          "duration": 9.697818,
          "end_time": "2022-03-19T14:32:34.983837",
          "exception": false,
          "start_time": "2022-03-19T14:32:25.286019",
          "status": "completed"
        },
        "tags": []
      },
      "outputs": [],
      "source": [
        "data['domain'] = data['url'].apply(lambda i: process_tld(i))"
      ]
    },
    {
      "cell_type": "code",
      "execution_count": null,
      "id": "fac47770",
      "metadata": {
        "execution": {
          "iopub.execute_input": "2022-03-19T14:32:35.085196Z",
          "iopub.status.busy": "2022-03-19T14:32:35.084590Z",
          "iopub.status.idle": "2022-03-19T14:32:35.093237Z",
          "shell.execute_reply": "2022-03-19T14:32:35.093671Z",
          "shell.execute_reply.started": "2022-03-19T14:02:26.277355Z"
        },
        "id": "fac47770",
        "papermill": {
          "duration": 0.060161,
          "end_time": "2022-03-19T14:32:35.093844",
          "exception": false,
          "start_time": "2022-03-19T14:32:35.033683",
          "status": "completed"
        },
        "tags": []
      },
      "outputs": [],
      "source": [
        "data.head()"
      ]
    },
    {
      "cell_type": "code",
      "execution_count": null,
      "id": "a8274704",
      "metadata": {
        "execution": {
          "iopub.execute_input": "2022-03-19T14:32:35.194957Z",
          "iopub.status.busy": "2022-03-19T14:32:35.194341Z",
          "iopub.status.idle": "2022-03-19T14:32:39.760544Z",
          "shell.execute_reply": "2022-03-19T14:32:39.759941Z",
          "shell.execute_reply.started": "2022-03-19T14:02:26.290006Z"
        },
        "id": "a8274704",
        "papermill": {
          "duration": 4.617615,
          "end_time": "2022-03-19T14:32:39.760695",
          "exception": false,
          "start_time": "2022-03-19T14:32:35.143080",
          "status": "completed"
        },
        "tags": []
      },
      "outputs": [],
      "source": [
        "feature = ['@','?','-','=','.','#','%','+','$','!','*',',','//']\n",
        "for a in feature:\n",
        "    data[a] = data['url'].apply(lambda i: i.count(a))"
      ]
    },
    {
      "cell_type": "code",
      "execution_count": null,
      "id": "02702576",
      "metadata": {
        "execution": {
          "iopub.execute_input": "2022-03-19T14:32:39.865288Z",
          "iopub.status.busy": "2022-03-19T14:32:39.864655Z",
          "iopub.status.idle": "2022-03-19T14:32:39.875547Z",
          "shell.execute_reply": "2022-03-19T14:32:39.876020Z",
          "shell.execute_reply.started": "2022-03-19T14:02:31.204860Z"
        },
        "id": "02702576",
        "papermill": {
          "duration": 0.066268,
          "end_time": "2022-03-19T14:32:39.876206",
          "exception": false,
          "start_time": "2022-03-19T14:32:39.809938",
          "status": "completed"
        },
        "tags": []
      },
      "outputs": [],
      "source": [
        "data.head()"
      ]
    },
    {
      "cell_type": "code",
      "execution_count": null,
      "id": "328ca2b5",
      "metadata": {
        "execution": {
          "iopub.execute_input": "2022-03-19T14:32:39.980618Z",
          "iopub.status.busy": "2022-03-19T14:32:39.979985Z",
          "iopub.status.idle": "2022-03-19T14:32:39.983931Z",
          "shell.execute_reply": "2022-03-19T14:32:39.984356Z",
          "shell.execute_reply.started": "2022-03-19T14:02:31.224127Z"
        },
        "id": "328ca2b5",
        "papermill": {
          "duration": 0.057706,
          "end_time": "2022-03-19T14:32:39.984522",
          "exception": false,
          "start_time": "2022-03-19T14:32:39.926816",
          "status": "completed"
        },
        "tags": []
      },
      "outputs": [],
      "source": [
        "def abnormal_url(url):\n",
        "    hostname = urlparse(url).hostname\n",
        "    hostname = str(hostname)\n",
        "    match = re.search(hostname, url)\n",
        "    if match:\n",
        "        # print match.group()\n",
        "        return 1\n",
        "    else:\n",
        "        # print 'No matching pattern found'\n",
        "        return 0\n",
        "\n",
        "\n",
        "\n",
        "\n",
        "\n",
        "# urlparse():This function parses a URL into six components, returning a 6-tuple.\n",
        "# This corresponds to the general structure of a URL. Each tuple item is a string.\n",
        "# The components are not broken up in smaller parts\n",
        "#(for example, the network location is a single string), and % escapes are not expanded."
      ]
    },
    {
      "cell_type": "code",
      "execution_count": null,
      "id": "f0f30ee6",
      "metadata": {
        "execution": {
          "iopub.execute_input": "2022-03-19T14:32:40.088157Z",
          "iopub.status.busy": "2022-03-19T14:32:40.087514Z",
          "iopub.status.idle": "2022-03-19T14:32:52.645374Z",
          "shell.execute_reply": "2022-03-19T14:32:52.645857Z",
          "shell.execute_reply.started": "2022-03-19T14:02:31.244982Z"
        },
        "id": "f0f30ee6",
        "papermill": {
          "duration": 12.61076,
          "end_time": "2022-03-19T14:32:52.646042",
          "exception": false,
          "start_time": "2022-03-19T14:32:40.035282",
          "status": "completed"
        },
        "tags": []
      },
      "outputs": [],
      "source": [
        "data['abnormal_url'] = data['url'].apply(lambda i: abnormal_url(i))"
      ]
    },
    {
      "cell_type": "code",
      "execution_count": null,
      "id": "44407736",
      "metadata": {
        "execution": {
          "iopub.execute_input": "2022-03-19T14:32:52.748578Z",
          "iopub.status.busy": "2022-03-19T14:32:52.747966Z",
          "iopub.status.idle": "2022-03-19T14:32:52.766057Z",
          "shell.execute_reply": "2022-03-19T14:32:52.766491Z",
          "shell.execute_reply.started": "2022-03-19T14:02:43.943980Z"
        },
        "id": "44407736",
        "papermill": {
          "duration": 0.071461,
          "end_time": "2022-03-19T14:32:52.766649",
          "exception": false,
          "start_time": "2022-03-19T14:32:52.695188",
          "status": "completed"
        },
        "tags": []
      },
      "outputs": [],
      "source": [
        "data.head(10)"
      ]
    },
    {
      "cell_type": "code",
      "execution_count": null,
      "id": "1cba54e7",
      "metadata": {
        "execution": {
          "iopub.execute_input": "2022-03-19T14:32:52.869876Z",
          "iopub.status.busy": "2022-03-19T14:32:52.869214Z",
          "iopub.status.idle": "2022-03-19T14:32:53.064809Z",
          "shell.execute_reply": "2022-03-19T14:32:53.065320Z",
          "shell.execute_reply.started": "2022-03-19T14:02:43.965139Z"
        },
        "id": "1cba54e7",
        "papermill": {
          "duration": 0.248275,
          "end_time": "2022-03-19T14:32:53.065478",
          "exception": false,
          "start_time": "2022-03-19T14:32:52.817203",
          "status": "completed"
        },
        "tags": []
      },
      "outputs": [],
      "source": [
        "sns.countplot(x='abnormal_url', data=data);"
      ]
    },
    {
      "cell_type": "code",
      "execution_count": null,
      "id": "87db3e72",
      "metadata": {
        "execution": {
          "iopub.execute_input": "2022-03-19T14:32:53.171319Z",
          "iopub.status.busy": "2022-03-19T14:32:53.170388Z",
          "iopub.status.idle": "2022-03-19T14:32:53.174513Z",
          "shell.execute_reply": "2022-03-19T14:32:53.174958Z",
          "shell.execute_reply.started": "2022-03-19T14:02:44.168570Z"
        },
        "id": "87db3e72",
        "papermill": {
          "duration": 0.05783,
          "end_time": "2022-03-19T14:32:53.175138",
          "exception": false,
          "start_time": "2022-03-19T14:32:53.117308",
          "status": "completed"
        },
        "tags": []
      },
      "outputs": [],
      "source": [
        "def httpSecure(url):\n",
        "    htp = urlparse(url).scheme #It supports the following URL schemes: file , ftp , gopher , hdl ,\n",
        "                               #http , https ... from urllib.parse\n",
        "    match = str(htp)\n",
        "    if match=='https':\n",
        "        # print match.group()\n",
        "        return 1\n",
        "    else:\n",
        "        # print 'No matching pattern found'\n",
        "        return 0"
      ]
    },
    {
      "cell_type": "code",
      "execution_count": null,
      "id": "58629c19",
      "metadata": {
        "execution": {
          "iopub.execute_input": "2022-03-19T14:32:53.281359Z",
          "iopub.status.busy": "2022-03-19T14:32:53.280670Z",
          "iopub.status.idle": "2022-03-19T14:32:57.234260Z",
          "shell.execute_reply": "2022-03-19T14:32:57.233707Z",
          "shell.execute_reply.started": "2022-03-19T14:02:44.174425Z"
        },
        "id": "58629c19",
        "papermill": {
          "duration": 4.008574,
          "end_time": "2022-03-19T14:32:57.234396",
          "exception": false,
          "start_time": "2022-03-19T14:32:53.225822",
          "status": "completed"
        },
        "tags": []
      },
      "outputs": [],
      "source": [
        "data['https'] = data['url'].apply(lambda i: httpSecure(i))"
      ]
    },
    {
      "cell_type": "code",
      "execution_count": null,
      "id": "34a46002",
      "metadata": {
        "execution": {
          "iopub.execute_input": "2022-03-19T14:32:57.338619Z",
          "iopub.status.busy": "2022-03-19T14:32:57.338033Z",
          "iopub.status.idle": "2022-03-19T14:32:57.354929Z",
          "shell.execute_reply": "2022-03-19T14:32:57.355399Z",
          "shell.execute_reply.started": "2022-03-19T14:02:48.130864Z"
        },
        "id": "34a46002",
        "papermill": {
          "duration": 0.070358,
          "end_time": "2022-03-19T14:32:57.355558",
          "exception": false,
          "start_time": "2022-03-19T14:32:57.285200",
          "status": "completed"
        },
        "tags": []
      },
      "outputs": [],
      "source": [
        "data.head(20)"
      ]
    },
    {
      "cell_type": "code",
      "execution_count": null,
      "id": "bf4b88b0",
      "metadata": {
        "execution": {
          "iopub.execute_input": "2022-03-19T14:32:57.461046Z",
          "iopub.status.busy": "2022-03-19T14:32:57.460492Z",
          "iopub.status.idle": "2022-03-19T14:32:57.669208Z",
          "shell.execute_reply": "2022-03-19T14:32:57.669722Z",
          "shell.execute_reply.started": "2022-03-19T14:02:48.154857Z"
        },
        "id": "bf4b88b0",
        "papermill": {
          "duration": 0.262431,
          "end_time": "2022-03-19T14:32:57.669979",
          "exception": false,
          "start_time": "2022-03-19T14:32:57.407548",
          "status": "completed"
        },
        "tags": []
      },
      "outputs": [],
      "source": [
        "sns.countplot(x='https', data=data);"
      ]
    },
    {
      "cell_type": "markdown",
      "id": "80ae51b1",
      "metadata": {
        "id": "80ae51b1",
        "papermill": {
          "duration": 0.053383,
          "end_time": "2022-03-19T14:32:57.778964",
          "exception": false,
          "start_time": "2022-03-19T14:32:57.725581",
          "status": "completed"
        },
        "tags": []
      },
      "source": [
        "<h4>Counts the number of digit characters in a URL</h4>"
      ]
    },
    {
      "cell_type": "code",
      "execution_count": null,
      "id": "5201f36f",
      "metadata": {
        "execution": {
          "iopub.execute_input": "2022-03-19T14:32:57.887820Z",
          "iopub.status.busy": "2022-03-19T14:32:57.887243Z",
          "iopub.status.idle": "2022-03-19T14:32:57.889741Z",
          "shell.execute_reply": "2022-03-19T14:32:57.889294Z",
          "shell.execute_reply.started": "2022-03-19T14:02:48.367633Z"
        },
        "id": "5201f36f",
        "papermill": {
          "duration": 0.059154,
          "end_time": "2022-03-19T14:32:57.889861",
          "exception": false,
          "start_time": "2022-03-19T14:32:57.830707",
          "status": "completed"
        },
        "tags": []
      },
      "outputs": [],
      "source": [
        "def digit_count(url):\n",
        "    digits = 0\n",
        "    for i in url:\n",
        "        if i.isnumeric():\n",
        "            digits = digits + 1\n",
        "    return digits"
      ]
    },
    {
      "cell_type": "code",
      "execution_count": null,
      "id": "56276ae2",
      "metadata": {
        "execution": {
          "iopub.execute_input": "2022-03-19T14:32:57.997253Z",
          "iopub.status.busy": "2022-03-19T14:32:57.996322Z",
          "iopub.status.idle": "2022-03-19T14:33:00.396099Z",
          "shell.execute_reply": "2022-03-19T14:33:00.396590Z",
          "shell.execute_reply.started": "2022-03-19T14:02:48.376335Z"
        },
        "id": "56276ae2",
        "papermill": {
          "duration": 2.455036,
          "end_time": "2022-03-19T14:33:00.396759",
          "exception": false,
          "start_time": "2022-03-19T14:32:57.941723",
          "status": "completed"
        },
        "tags": []
      },
      "outputs": [],
      "source": [
        "data['digits']= data['url'].apply(lambda i: digit_count(i))"
      ]
    },
    {
      "cell_type": "markdown",
      "id": "f65d9f76",
      "metadata": {
        "id": "f65d9f76",
        "papermill": {
          "duration": 0.051474,
          "end_time": "2022-03-19T14:33:00.500522",
          "exception": false,
          "start_time": "2022-03-19T14:33:00.449048",
          "status": "completed"
        },
        "tags": []
      },
      "source": [
        "<h4>Counts the number of letter characters in a URL</h4>"
      ]
    },
    {
      "cell_type": "code",
      "execution_count": null,
      "id": "a4511248",
      "metadata": {
        "execution": {
          "iopub.execute_input": "2022-03-19T14:33:00.607427Z",
          "iopub.status.busy": "2022-03-19T14:33:00.606543Z",
          "iopub.status.idle": "2022-03-19T14:33:00.623778Z",
          "shell.execute_reply": "2022-03-19T14:33:00.624231Z",
          "shell.execute_reply.started": "2022-03-19T14:02:50.916355Z"
        },
        "id": "a4511248",
        "papermill": {
          "duration": 0.072134,
          "end_time": "2022-03-19T14:33:00.624399",
          "exception": false,
          "start_time": "2022-03-19T14:33:00.552265",
          "status": "completed"
        },
        "tags": []
      },
      "outputs": [],
      "source": [
        "data.head()"
      ]
    },
    {
      "cell_type": "code",
      "execution_count": null,
      "id": "9dc87f85",
      "metadata": {
        "execution": {
          "iopub.execute_input": "2022-03-19T14:33:00.732985Z",
          "iopub.status.busy": "2022-03-19T14:33:00.732333Z",
          "iopub.status.idle": "2022-03-19T14:33:00.735791Z",
          "shell.execute_reply": "2022-03-19T14:33:00.736285Z",
          "shell.execute_reply.started": "2022-03-19T14:02:50.940219Z"
        },
        "id": "9dc87f85",
        "papermill": {
          "duration": 0.0599,
          "end_time": "2022-03-19T14:33:00.736444",
          "exception": false,
          "start_time": "2022-03-19T14:33:00.676544",
          "status": "completed"
        },
        "tags": []
      },
      "outputs": [],
      "source": [
        "def letter_count(url):\n",
        "    letters = 0\n",
        "    for i in url:\n",
        "        if i.isalpha():\n",
        "            letters = letters + 1\n",
        "    return letters\n",
        "\n",
        "# The isalpha() method returns True if all the characters are alphabet letters (a-z).\n",
        "# Example of characters that are not alphabet letters: (space)!"
      ]
    },
    {
      "cell_type": "code",
      "execution_count": null,
      "id": "ce37afda",
      "metadata": {
        "execution": {
          "iopub.execute_input": "2022-03-19T14:33:00.847252Z",
          "iopub.status.busy": "2022-03-19T14:33:00.846615Z",
          "iopub.status.idle": "2022-03-19T14:33:03.842564Z",
          "shell.execute_reply": "2022-03-19T14:33:03.841950Z",
          "shell.execute_reply.started": "2022-03-19T14:02:50.946103Z"
        },
        "id": "ce37afda",
        "papermill": {
          "duration": 3.052161,
          "end_time": "2022-03-19T14:33:03.842705",
          "exception": false,
          "start_time": "2022-03-19T14:33:00.790544",
          "status": "completed"
        },
        "tags": []
      },
      "outputs": [],
      "source": [
        "data['letters']= data['url'].apply(lambda i: letter_count(i))"
      ]
    },
    {
      "cell_type": "markdown",
      "id": "2bfe5658",
      "metadata": {
        "id": "2bfe5658",
        "papermill": {
          "duration": 0.052278,
          "end_time": "2022-03-19T14:33:03.948847",
          "exception": false,
          "start_time": "2022-03-19T14:33:03.896569",
          "status": "completed"
        },
        "tags": []
      },
      "source": [
        "<h4>Checks to see whether URL contains a shortening service</h4>"
      ]
    },
    {
      "cell_type": "code",
      "execution_count": null,
      "id": "fbcd9590",
      "metadata": {
        "execution": {
          "iopub.execute_input": "2022-03-19T14:33:04.060759Z",
          "iopub.status.busy": "2022-03-19T14:33:04.060087Z",
          "iopub.status.idle": "2022-03-19T14:33:04.063928Z",
          "shell.execute_reply": "2022-03-19T14:33:04.064463Z",
          "shell.execute_reply.started": "2022-03-19T14:02:54.046900Z"
        },
        "id": "fbcd9590",
        "papermill": {
          "duration": 0.061687,
          "end_time": "2022-03-19T14:33:04.064640",
          "exception": false,
          "start_time": "2022-03-19T14:33:04.002953",
          "status": "completed"
        },
        "tags": []
      },
      "outputs": [],
      "source": [
        "def Shortining_Service(url):\n",
        "    match = re.search('bit\\.ly|goo\\.gl|shorte\\.st|go2l\\.ink|x\\.co|ow\\.ly|t\\.co|tinyurl|tr\\.im|is\\.gd|cli\\.gs|'\n",
        "                      'yfrog\\.com|migre\\.me|ff\\.im|tiny\\.cc|url4\\.eu|twit\\.ac|su\\.pr|twurl\\.nl|snipurl\\.com|'\n",
        "                      'short\\.to|BudURL\\.com|ping\\.fm|post\\.ly|Just\\.as|bkite\\.com|snipr\\.com|fic\\.kr|loopt\\.us|'\n",
        "                      'doiop\\.com|short\\.ie|kl\\.am|wp\\.me|rubyurl\\.com|om\\.ly|to\\.ly|bit\\.do|t\\.co|lnkd\\.in|'\n",
        "                      'db\\.tt|qr\\.ae|adf\\.ly|goo\\.gl|bitly\\.com|cur\\.lv|tinyurl\\.com|ow\\.ly|bit\\.ly|ity\\.im|'\n",
        "                      'q\\.gs|is\\.gd|po\\.st|bc\\.vc|twitthis\\.com|u\\.to|j\\.mp|buzurl\\.com|cutt\\.us|u\\.bb|yourls\\.org|'\n",
        "                      'x\\.co|prettylinkpro\\.com|scrnch\\.me|filoops\\.info|vzturl\\.com|qr\\.net|1url\\.com|tweez\\.me|v\\.gd|'\n",
        "                      'tr\\.im|link\\.zip\\.net',\n",
        "                      url)\n",
        "    if match:\n",
        "        return 1\n",
        "    else:\n",
        "        return 0\n",
        "\n",
        "\n",
        "# A URL shortening service is a third-party website that converts that long URL to a short,\n",
        "# case-sensitive alphanumeric code. Simply put, this means that a URL shortening service takes\n",
        "# ridiculously long URLs (web addresses) and makes them short."
      ]
    },
    {
      "cell_type": "code",
      "execution_count": null,
      "id": "4b1e1e71",
      "metadata": {
        "execution": {
          "iopub.execute_input": "2022-03-19T14:33:04.179196Z",
          "iopub.status.busy": "2022-03-19T14:33:04.178544Z",
          "iopub.status.idle": "2022-03-19T14:33:11.561585Z",
          "shell.execute_reply": "2022-03-19T14:33:11.560971Z",
          "shell.execute_reply.started": "2022-03-19T14:02:54.054104Z"
        },
        "id": "4b1e1e71",
        "papermill": {
          "duration": 7.442164,
          "end_time": "2022-03-19T14:33:11.561726",
          "exception": false,
          "start_time": "2022-03-19T14:33:04.119562",
          "status": "completed"
        },
        "tags": []
      },
      "outputs": [],
      "source": [
        "data['Shortining_Service'] = data['url'].apply(lambda x: Shortining_Service(x))"
      ]
    },
    {
      "cell_type": "code",
      "execution_count": null,
      "id": "82b80725",
      "metadata": {
        "execution": {
          "iopub.execute_input": "2022-03-19T14:33:11.680979Z",
          "iopub.status.busy": "2022-03-19T14:33:11.678199Z",
          "iopub.status.idle": "2022-03-19T14:33:11.692021Z",
          "shell.execute_reply": "2022-03-19T14:33:11.692515Z",
          "shell.execute_reply.started": "2022-03-19T14:03:01.294690Z"
        },
        "id": "82b80725",
        "papermill": {
          "duration": 0.078418,
          "end_time": "2022-03-19T14:33:11.692677",
          "exception": false,
          "start_time": "2022-03-19T14:33:11.614259",
          "status": "completed"
        },
        "tags": []
      },
      "outputs": [],
      "source": [
        "data.head(20)"
      ]
    },
    {
      "cell_type": "code",
      "execution_count": null,
      "id": "c8ca0032",
      "metadata": {
        "execution": {
          "iopub.execute_input": "2022-03-19T14:33:11.803260Z",
          "iopub.status.busy": "2022-03-19T14:33:11.802363Z",
          "iopub.status.idle": "2022-03-19T14:33:12.018081Z",
          "shell.execute_reply": "2022-03-19T14:33:12.018550Z",
          "shell.execute_reply.started": "2022-03-19T14:03:01.320104Z"
        },
        "id": "c8ca0032",
        "papermill": {
          "duration": 0.272686,
          "end_time": "2022-03-19T14:33:12.018744",
          "exception": false,
          "start_time": "2022-03-19T14:33:11.746058",
          "status": "completed"
        },
        "tags": []
      },
      "outputs": [],
      "source": [
        "sns.countplot(x='Shortining_Service', data=data);"
      ]
    },
    {
      "cell_type": "code",
      "execution_count": null,
      "id": "e51395f1",
      "metadata": {
        "execution": {
          "iopub.execute_input": "2022-03-19T14:33:12.135833Z",
          "iopub.status.busy": "2022-03-19T14:33:12.135203Z",
          "iopub.status.idle": "2022-03-19T14:33:12.139650Z",
          "shell.execute_reply": "2022-03-19T14:33:12.140121Z",
          "shell.execute_reply.started": "2022-03-19T14:03:01.533141Z"
        },
        "id": "e51395f1",
        "papermill": {
          "duration": 0.064262,
          "end_time": "2022-03-19T14:33:12.140304",
          "exception": false,
          "start_time": "2022-03-19T14:33:12.076042",
          "status": "completed"
        },
        "tags": []
      },
      "outputs": [],
      "source": [
        "def having_ip_address(url):\n",
        "    match = re.search(\n",
        "        '(([01]?\\\\d\\\\d?|2[0-4]\\\\d|25[0-5])\\\\.([01]?\\\\d\\\\d?|2[0-4]\\\\d|25[0-5])\\\\.([01]?\\\\d\\\\d?|2[0-4]\\\\d|25[0-5])\\\\.'\n",
        "        '([01]?\\\\d\\\\d?|2[0-4]\\\\d|25[0-5])\\\\/)|'  # IPv4\n",
        "        '(([01]?\\\\d\\\\d?|2[0-4]\\\\d|25[0-5])\\\\.([01]?\\\\d\\\\d?|2[0-4]\\\\d|25[0-5])\\\\.([01]?\\\\d\\\\d?|2[0-4]\\\\d|25[0-5])\\\\.'\n",
        "        '([01]?\\\\d\\\\d?|2[0-4]\\\\d|25[0-5])\\\\/)|'  # IPv4 with port\n",
        "        '((0x[0-9a-fA-F]{1,2})\\\\.(0x[0-9a-fA-F]{1,2})\\\\.(0x[0-9a-fA-F]{1,2})\\\\.(0x[0-9a-fA-F]{1,2})\\\\/)' # IPv4 in hexadecimal\n",
        "        '(?:[a-fA-F0-9]{1,4}:){7}[a-fA-F0-9]{1,4}|'\n",
        "        '([0-9]+(?:\\.[0-9]+){3}:[0-9]+)|'\n",
        "        '((?:(?:\\d|[01]?\\d\\d|2[0-4]\\d|25[0-5])\\.){3}(?:25[0-5]|2[0-4]\\d|[01]?\\d\\d|\\d)(?:\\/\\d{1,2})?)', url)  # Ipv6\n",
        "    if match:\n",
        "        return 1\n",
        "    else:\n",
        "        return 0"
      ]
    },
    {
      "cell_type": "code",
      "execution_count": null,
      "id": "5533e411",
      "metadata": {
        "execution": {
          "iopub.execute_input": "2022-03-19T14:33:12.254521Z",
          "iopub.status.busy": "2022-03-19T14:33:12.253830Z",
          "iopub.status.idle": "2022-03-19T14:33:25.676675Z",
          "shell.execute_reply": "2022-03-19T14:33:25.676191Z",
          "shell.execute_reply.started": "2022-03-19T14:03:01.539858Z"
        },
        "id": "5533e411",
        "papermill": {
          "duration": 13.481311,
          "end_time": "2022-03-19T14:33:25.676830",
          "exception": false,
          "start_time": "2022-03-19T14:33:12.195519",
          "status": "completed"
        },
        "tags": []
      },
      "outputs": [],
      "source": [
        "data['having_ip_address'] = data['url'].apply(lambda i: having_ip_address(i))"
      ]
    },
    {
      "cell_type": "code",
      "execution_count": null,
      "id": "4ebda969",
      "metadata": {
        "execution": {
          "iopub.execute_input": "2022-03-19T14:33:25.793676Z",
          "iopub.status.busy": "2022-03-19T14:33:25.793092Z",
          "iopub.status.idle": "2022-03-19T14:33:25.807855Z",
          "shell.execute_reply": "2022-03-19T14:33:25.808386Z",
          "shell.execute_reply.started": "2022-03-19T14:03:15.144120Z"
        },
        "id": "4ebda969",
        "papermill": {
          "duration": 0.074621,
          "end_time": "2022-03-19T14:33:25.808557",
          "exception": false,
          "start_time": "2022-03-19T14:33:25.733936",
          "status": "completed"
        },
        "tags": []
      },
      "outputs": [],
      "source": [
        "data.head()"
      ]
    },
    {
      "cell_type": "code",
      "execution_count": null,
      "id": "78796e01",
      "metadata": {
        "execution": {
          "iopub.execute_input": "2022-03-19T14:33:25.924002Z",
          "iopub.status.busy": "2022-03-19T14:33:25.923355Z",
          "iopub.status.idle": "2022-03-19T14:33:25.933732Z",
          "shell.execute_reply": "2022-03-19T14:33:25.933286Z",
          "shell.execute_reply.started": "2022-03-19T14:03:15.165199Z"
        },
        "id": "78796e01",
        "papermill": {
          "duration": 0.067946,
          "end_time": "2022-03-19T14:33:25.933866",
          "exception": false,
          "start_time": "2022-03-19T14:33:25.865920",
          "status": "completed"
        },
        "tags": []
      },
      "outputs": [],
      "source": [
        "data['having_ip_address'].value_counts()"
      ]
    },
    {
      "cell_type": "code",
      "execution_count": null,
      "id": "743e2b31",
      "metadata": {
        "execution": {
          "iopub.execute_input": "2022-03-19T14:33:26.051455Z",
          "iopub.status.busy": "2022-03-19T14:33:26.050840Z",
          "iopub.status.idle": "2022-03-19T14:33:27.721235Z",
          "shell.execute_reply": "2022-03-19T14:33:27.722014Z",
          "shell.execute_reply.started": "2022-03-19T14:03:15.178469Z"
        },
        "id": "743e2b31",
        "papermill": {
          "duration": 1.732172,
          "end_time": "2022-03-19T14:33:27.722237",
          "exception": false,
          "start_time": "2022-03-19T14:33:25.990065",
          "status": "completed"
        },
        "tags": []
      },
      "outputs": [],
      "source": [
        "plt.figure(figsize=(15, 15))\n",
        "sns.heatmap(data.corr(), linewidths=.5)"
      ]
    },
    {
      "cell_type": "code",
      "execution_count": null,
      "id": "b6458672",
      "metadata": {
        "execution": {
          "iopub.execute_input": "2022-03-19T14:33:27.845368Z",
          "iopub.status.busy": "2022-03-19T14:33:27.843723Z",
          "iopub.status.idle": "2022-03-19T14:33:28.019559Z",
          "shell.execute_reply": "2022-03-19T14:33:28.018965Z",
          "shell.execute_reply.started": "2022-03-19T14:03:16.814286Z"
        },
        "id": "b6458672",
        "papermill": {
          "duration": 0.239298,
          "end_time": "2022-03-19T14:33:28.019713",
          "exception": false,
          "start_time": "2022-03-19T14:33:27.780415",
          "status": "completed"
        },
        "tags": []
      },
      "outputs": [],
      "source": [
        "X = data.drop(['url','type','Category','domain'],axis=1)#,'type_code'\n",
        "y = data['Category']"
      ]
    },
    {
      "cell_type": "code",
      "execution_count": null,
      "id": "057c0304",
      "metadata": {
        "execution": {
          "iopub.execute_input": "2022-03-19T14:33:28.154950Z",
          "iopub.status.busy": "2022-03-19T14:33:28.140790Z",
          "iopub.status.idle": "2022-03-19T14:33:28.157979Z",
          "shell.execute_reply": "2022-03-19T14:33:28.157400Z",
          "shell.execute_reply.started": "2022-03-19T14:03:16.995326Z"
        },
        "id": "057c0304",
        "papermill": {
          "duration": 0.078552,
          "end_time": "2022-03-19T14:33:28.158114",
          "exception": false,
          "start_time": "2022-03-19T14:33:28.079562",
          "status": "completed"
        },
        "tags": []
      },
      "outputs": [],
      "source": [
        "X"
      ]
    },
    {
      "cell_type": "code",
      "execution_count": null,
      "id": "72701537",
      "metadata": {
        "execution": {
          "iopub.execute_input": "2022-03-19T14:33:28.280600Z",
          "iopub.status.busy": "2022-03-19T14:33:28.279596Z",
          "iopub.status.idle": "2022-03-19T14:33:28.284046Z",
          "shell.execute_reply": "2022-03-19T14:33:28.283493Z",
          "shell.execute_reply.started": "2022-03-19T14:03:17.016709Z"
        },
        "id": "72701537",
        "papermill": {
          "duration": 0.068503,
          "end_time": "2022-03-19T14:33:28.284224",
          "exception": false,
          "start_time": "2022-03-19T14:33:28.215721",
          "status": "completed"
        },
        "tags": []
      },
      "outputs": [],
      "source": [
        "y"
      ]
    },
    {
      "cell_type": "markdown",
      "id": "95f8239d",
      "metadata": {
        "id": "95f8239d",
        "papermill": {
          "duration": 0.058983,
          "end_time": "2022-03-19T14:33:28.401819",
          "exception": false,
          "start_time": "2022-03-19T14:33:28.342836",
          "status": "completed"
        },
        "tags": []
      },
      "source": [
        "<a id=\"6\"></a> <br>\n",
        "# ✂️ Train & Test Split"
      ]
    },
    {
      "cell_type": "code",
      "execution_count": null,
      "id": "af9d1d6a",
      "metadata": {
        "execution": {
          "iopub.execute_input": "2022-03-19T14:33:28.525374Z",
          "iopub.status.busy": "2022-03-19T14:33:28.524709Z",
          "iopub.status.idle": "2022-03-19T14:33:28.721651Z",
          "shell.execute_reply": "2022-03-19T14:33:28.722237Z",
          "shell.execute_reply.started": "2022-03-19T14:03:17.025671Z"
        },
        "id": "af9d1d6a",
        "papermill": {
          "duration": 0.263143,
          "end_time": "2022-03-19T14:33:28.722426",
          "exception": false,
          "start_time": "2022-03-19T14:33:28.459283",
          "status": "completed"
        },
        "tags": []
      },
      "outputs": [],
      "source": [
        "X_train, X_test, y_train, y_test = train_test_split(X, y, test_size=0.2, random_state=2)"
      ]
    },
    {
      "cell_type": "code",
      "execution_count": null,
      "id": "1e83440f",
      "metadata": {
        "execution": {
          "iopub.execute_input": "2022-03-19T14:33:28.856480Z",
          "iopub.status.busy": "2022-03-19T14:33:28.855372Z",
          "iopub.status.idle": "2022-03-19T14:33:28.866865Z",
          "shell.execute_reply": "2022-03-19T14:33:28.867334Z",
          "shell.execute_reply.started": "2022-03-19T14:03:17.234365Z"
        },
        "id": "1e83440f",
        "papermill": {
          "duration": 0.083138,
          "end_time": "2022-03-19T14:33:28.867520",
          "exception": false,
          "start_time": "2022-03-19T14:33:28.784382",
          "status": "completed"
        },
        "tags": []
      },
      "outputs": [],
      "source": [
        "X_train"
      ]
    },
    {
      "cell_type": "code",
      "execution_count": null,
      "id": "b4a179cb",
      "metadata": {
        "execution": {
          "iopub.execute_input": "2022-03-19T14:33:29.006310Z",
          "iopub.status.busy": "2022-03-19T14:33:28.992500Z",
          "iopub.status.idle": "2022-03-19T14:33:29.008702Z",
          "shell.execute_reply": "2022-03-19T14:33:29.009122Z",
          "shell.execute_reply.started": "2022-03-19T14:03:17.255338Z"
        },
        "id": "b4a179cb",
        "papermill": {
          "duration": 0.081345,
          "end_time": "2022-03-19T14:33:29.009306",
          "exception": false,
          "start_time": "2022-03-19T14:33:28.927961",
          "status": "completed"
        },
        "tags": []
      },
      "outputs": [],
      "source": [
        "X_test"
      ]
    },
    {
      "cell_type": "code",
      "execution_count": null,
      "id": "81d52214",
      "metadata": {
        "execution": {
          "iopub.execute_input": "2022-03-19T14:33:29.134225Z",
          "iopub.status.busy": "2022-03-19T14:33:29.133567Z",
          "iopub.status.idle": "2022-03-19T14:33:29.138657Z",
          "shell.execute_reply": "2022-03-19T14:33:29.139096Z",
          "shell.execute_reply.started": "2022-03-19T14:03:17.278124Z"
        },
        "id": "81d52214",
        "papermill": {
          "duration": 0.068956,
          "end_time": "2022-03-19T14:33:29.139264",
          "exception": false,
          "start_time": "2022-03-19T14:33:29.070308",
          "status": "completed"
        },
        "tags": []
      },
      "outputs": [],
      "source": [
        "y_train"
      ]
    },
    {
      "cell_type": "code",
      "execution_count": null,
      "id": "e80f22ef",
      "metadata": {
        "execution": {
          "iopub.execute_input": "2022-03-19T14:33:29.262938Z",
          "iopub.status.busy": "2022-03-19T14:33:29.262354Z",
          "iopub.status.idle": "2022-03-19T14:33:29.268369Z",
          "shell.execute_reply": "2022-03-19T14:33:29.267778Z",
          "shell.execute_reply.started": "2022-03-19T14:03:17.292126Z"
        },
        "id": "e80f22ef",
        "papermill": {
          "duration": 0.068663,
          "end_time": "2022-03-19T14:33:29.268504",
          "exception": false,
          "start_time": "2022-03-19T14:33:29.199841",
          "status": "completed"
        },
        "tags": []
      },
      "outputs": [],
      "source": [
        "y_test"
      ]
    },
    {
      "cell_type": "markdown",
      "id": "53045924",
      "metadata": {
        "id": "53045924",
        "papermill": {
          "duration": 0.061652,
          "end_time": "2022-03-19T14:33:29.390915",
          "exception": false,
          "start_time": "2022-03-19T14:33:29.329263",
          "status": "completed"
        },
        "tags": []
      },
      "source": [
        "<a id=\"7\"></a> <br>\n",
        "# <img src=\"https://cdn-icons-png.flaticon.com/32/4149/4149680.png\"/> Training models"
      ]
    },
    {
      "cell_type": "code",
      "execution_count": null,
      "id": "b358793d",
      "metadata": {
        "execution": {
          "iopub.execute_input": "2022-03-19T14:33:29.520486Z",
          "iopub.status.busy": "2022-03-19T14:33:29.519490Z",
          "iopub.status.idle": "2022-03-19T14:33:29.522304Z",
          "shell.execute_reply": "2022-03-19T14:33:29.521602Z",
          "shell.execute_reply.started": "2022-03-19T14:03:17.306004Z"
        },
        "id": "b358793d",
        "papermill": {
          "duration": 0.068938,
          "end_time": "2022-03-19T14:33:29.522446",
          "exception": false,
          "start_time": "2022-03-19T14:33:29.453508",
          "status": "completed"
        },
        "tags": []
      },
      "outputs": [],
      "source": [
        "from sklearn.metrics import plot_confusion_matrix\n",
        "from sklearn.metrics import plot_roc_curve"
      ]
    },
    {
      "cell_type": "code",
      "execution_count": null,
      "id": "4e53b952",
      "metadata": {
        "execution": {
          "iopub.execute_input": "2022-03-19T14:33:29.651670Z",
          "iopub.status.busy": "2022-03-19T14:33:29.650678Z",
          "iopub.status.idle": "2022-03-19T14:37:54.665480Z",
          "shell.execute_reply": "2022-03-19T14:37:54.665957Z",
          "shell.execute_reply.started": "2022-03-19T14:03:17.319235Z"
        },
        "id": "4e53b952",
        "papermill": {
          "duration": 265.08273,
          "end_time": "2022-03-19T14:37:54.666135",
          "exception": false,
          "start_time": "2022-03-19T14:33:29.583405",
          "status": "completed"
        },
        "tags": []
      },
      "outputs": [],
      "source": [
        "models = [DecisionTreeClassifier,RandomForestClassifier,AdaBoostClassifier,KNeighborsClassifier,SGDClassifier,\n",
        "         ExtraTreesClassifier,GaussianNB]\n",
        "accuracy_test=[]\n",
        "for m in models:\n",
        "    print('#############################################')\n",
        "    print('######-Model =>\\033[07m {} \\033[0m'.format(m))\n",
        "    model_ = m()\n",
        "    model_.fit(X_train, y_train)\n",
        "    pred = model_.predict(X_test)\n",
        "    acc = accuracy_score(pred, y_test)\n",
        "    accuracy_test.append(acc)\n",
        "    print('Test Accuracy :\\033[32m \\033[01m {:.2f}% \\033[30m \\033[0m'.format(acc*100))\n",
        "    print('\\033[01m              Classification_report \\033[0m')\n",
        "    print(classification_report(y_test, pred))\n",
        "    print('\\033[01m             Confusion_matrix \\033[0m')\n",
        "    cf_matrix = confusion_matrix(y_test, pred)\n",
        "    plot_ = sns.heatmap(cf_matrix/np.sum(cf_matrix), annot=True,fmt= '0.2%')\n",
        "    plt.show()\n",
        "    print('\\033[31m###################- End -###################\\033[0m')"
      ]
    },
    {
      "cell_type": "code",
      "execution_count": null,
      "id": "e7bdeae2",
      "metadata": {
        "execution": {
          "iopub.execute_input": "2022-03-19T14:37:54.815973Z",
          "iopub.status.busy": "2022-03-19T14:37:54.813108Z",
          "iopub.status.idle": "2022-03-19T14:37:54.817688Z",
          "shell.execute_reply": "2022-03-19T14:37:54.818221Z",
          "shell.execute_reply.started": "2022-03-19T14:07:44.196928Z"
        },
        "id": "e7bdeae2",
        "papermill": {
          "duration": 0.080958,
          "end_time": "2022-03-19T14:37:54.818383",
          "exception": false,
          "start_time": "2022-03-19T14:37:54.737425",
          "status": "completed"
        },
        "tags": []
      },
      "outputs": [],
      "source": [
        "output = pd.DataFrame({\"Model\":['Decision Tree Classifier','Random Forest Classifier',\n",
        "                                'AdaBoost Classifier','KNeighbors Classifier','SGD Classifier',\n",
        "                                'Extra Trees Classifier','Gaussian NB'],\n",
        "                      \"Accuracy\":accuracy_test})"
      ]
    },
    {
      "cell_type": "code",
      "execution_count": null,
      "id": "c646da6b",
      "metadata": {
        "execution": {
          "iopub.execute_input": "2022-03-19T14:37:54.965533Z",
          "iopub.status.busy": "2022-03-19T14:37:54.964846Z",
          "iopub.status.idle": "2022-03-19T14:37:54.981693Z",
          "shell.execute_reply": "2022-03-19T14:37:54.982105Z",
          "shell.execute_reply.started": "2022-03-19T14:07:44.204004Z"
        },
        "id": "c646da6b",
        "papermill": {
          "duration": 0.091686,
          "end_time": "2022-03-19T14:37:54.982271",
          "exception": false,
          "start_time": "2022-03-19T14:37:54.890585",
          "status": "completed"
        },
        "tags": []
      },
      "outputs": [],
      "source": [
        "X_test"
      ]
    },
    {
      "cell_type": "code",
      "execution_count": null,
      "id": "b699c6c2",
      "metadata": {
        "execution": {
          "iopub.execute_input": "2022-03-19T14:37:55.153986Z",
          "iopub.status.busy": "2022-03-19T14:37:55.151415Z",
          "iopub.status.idle": "2022-03-19T14:37:55.316375Z",
          "shell.execute_reply": "2022-03-19T14:37:55.316790Z",
          "shell.execute_reply.started": "2022-03-19T14:07:44.232899Z"
        },
        "id": "b699c6c2",
        "papermill": {
          "duration": 0.262743,
          "end_time": "2022-03-19T14:37:55.316983",
          "exception": false,
          "start_time": "2022-03-19T14:37:55.054240",
          "status": "completed"
        },
        "tags": []
      },
      "outputs": [],
      "source": [
        "plt.figure(figsize=(10, 5))\n",
        "plots = sns.barplot(x='Model', y='Accuracy', data=output)\n",
        "for bar in plots.patches:\n",
        "    plots.annotate(format(bar.get_height(), '.2f'),\n",
        "                   (bar.get_x() + bar.get_width() / 2,\n",
        "                    bar.get_height()), ha='center', va='center',\n",
        "                   size=15, xytext=(0, 8),\n",
        "                   textcoords='offset points')\n",
        "\n",
        "plt.xlabel(\"Models\", size=14)\n",
        "plt.xticks(rotation=20);\n",
        "plt.ylabel(\"Accuracy\", size=14)\n",
        "plt.show()"
      ]
    },
    {
      "cell_type": "markdown",
      "id": "yDkoHzfWVCeq",
      "metadata": {
        "id": "yDkoHzfWVCeq"
      },
      "source": [
        "Visualization of Model Accuracy Comparison"
      ]
    },
    {
      "cell_type": "code",
      "execution_count": null,
      "id": "445ef831",
      "metadata": {
        "execution": {
          "iopub.execute_input": "2022-03-19T14:37:55.471239Z",
          "iopub.status.busy": "2022-03-19T14:37:55.470601Z",
          "iopub.status.idle": "2022-03-19T14:37:55.472350Z",
          "shell.execute_reply": "2022-03-19T14:37:55.472865Z",
          "shell.execute_reply.started": "2022-03-19T14:07:44.472662Z"
        },
        "id": "445ef831",
        "papermill": {
          "duration": 0.083392,
          "end_time": "2022-03-19T14:37:55.473048",
          "exception": false,
          "start_time": "2022-03-19T14:37:55.389656",
          "status": "completed"
        },
        "tags": []
      },
      "outputs": [],
      "source": [
        "def URL_Converter(urls):\n",
        "    data= pd.DataFrame()\n",
        "    data['url'] = pd.Series(urls)\n",
        "\n",
        "\n",
        "    data['url_len'] = data['url'].apply(lambda x: len(str(x)))\n",
        "    data['domain'] = data['url'].apply(lambda i: process_tld(i))\n",
        "    feature = ['@','?','-','=','.','#','%','+','$','!','*',',','//']\n",
        "    for a in feature:\n",
        "        data[a] = data['url'].apply(lambda i: i.count(a))\n",
        "    data['abnormal_url'] = data['url'].apply(lambda i: abnormal_url(i))\n",
        "    data['https'] = data['url'].apply(lambda i: httpSecure(i))\n",
        "    data['digits']= data['url'].apply(lambda i: digit_count(i))\n",
        "    data['letters']= data['url'].apply(lambda i: letter_count(i))\n",
        "    data['Shortining_Service'] = data['url'].apply(lambda x: Shortining_Service(x))\n",
        "    data['having_ip_address'] = data['url'].apply(lambda i: having_ip_address(i))\n",
        "    print(data.columns)\n",
        "    X = data.drop(['url','domain'],axis=1)\n",
        "\n",
        "    return X\n"
      ]
    },
    {
      "cell_type": "code",
      "execution_count": null,
      "id": "4e54ddf3",
      "metadata": {
        "execution": {
          "iopub.execute_input": "2022-03-19T14:37:55.621998Z",
          "iopub.status.busy": "2022-03-19T14:37:55.621341Z",
          "iopub.status.idle": "2022-03-19T14:37:55.626390Z",
          "shell.execute_reply": "2022-03-19T14:37:55.626886Z",
          "shell.execute_reply.started": "2022-03-19T14:07:44.483254Z"
        },
        "id": "4e54ddf3",
        "papermill": {
          "duration": 0.081711,
          "end_time": "2022-03-19T14:37:55.627077",
          "exception": false,
          "start_time": "2022-03-19T14:37:55.545366",
          "status": "completed"
        },
        "tags": []
      },
      "outputs": [],
      "source": [
        "urls= ['diaryofagameaddict.com',\n",
        "'espdesign.com.au',\n",
        "'iamagameaddict.com',\n",
        "'kalantzis.net',\n",
        "'slightlyoffcenter.net',\n",
        "'toddscarwash.com',\n",
        "'tubemoviez.com',\n",
        "'ipl.hk',\n",
        "'crackspider.us/toolbar/install.php?pack=exe',\n",
        "'pos-kupang.com/',\n",
        "'rupor.info',\n",
        "'svision-online.de/mgfi/administrator/components/com_babackup/classes/fx29id1.txt',\n",
        "'officeon.ch.ma/office.js?google_ad_format=728x90_as',\n",
        "'sn-gzzx.com',\n",
        "'sunlux.net/company/about.html',\n",
        "'outporn.com',\n",
        "'timothycopus.aimoo.com',\n",
        "'xindalawyer.com',\n",
        "'freeserials.spb.ru/key/68703.htm',\n",
        "'deletespyware-adware.com',\n",
        "'orbowlada.strefa.pl/text396.htm',\n",
        "'ruiyangcn.com',\n",
        "'zkic.com',\n",
        "'adserving.favorit-network.com/eas?camp=19320;cre=mu&grpid=1738&tag_id=618&nums=FGApbjFAAA',\n",
        "'cracks.vg/d1.php',\n",
        "'juicypussyclips.com',\n",
        "'nuptialimages.com',\n",
        "'andysgame.com',\n",
        "'bezproudoff.cz',\n",
        "'ceskarepublika.net',\n",
        "'hotspot.cz',\n",
        "'gmcjjh.org/DHL',\n",
        "'nerez-schodiste-zabradli.com',\n",
        "'nordiccountry.cz',\n",
        "'nowina.info',\n",
        "'obada-konstruktiwa.org',\n",
        "'otylkaaotesanek.cz',\n",
        "'pb-webdesign.net',\n",
        "'pension-helene.cz',\n",
        "'podzemi.myotis.info',\n",
        "'smrcek.com',\n",
        "'spekband.com',\n",
        "'m2132.ehgaugysd.net/zyso.cgi?18',\n",
        "'webcom-software.ws/links/?153646e8b0a88',\n",
        "'worldgymperu.com',\n",
        "'zgsysz.com',\n",
        "'oknarai.ru',\n",
        "'realinnovation.com/css/menu.js']"
      ]
    },
    {
      "cell_type": "code",
      "execution_count": null,
      "id": "b0affc5f",
      "metadata": {
        "execution": {
          "iopub.execute_input": "2022-03-19T14:37:55.776315Z",
          "iopub.status.busy": "2022-03-19T14:37:55.775720Z",
          "iopub.status.idle": "2022-03-19T14:37:55.797635Z",
          "shell.execute_reply": "2022-03-19T14:37:55.798109Z",
          "shell.execute_reply.started": "2022-03-19T14:07:44.499704Z"
        },
        "id": "b0affc5f",
        "papermill": {
          "duration": 0.098124,
          "end_time": "2022-03-19T14:37:55.798284",
          "exception": false,
          "start_time": "2022-03-19T14:37:55.700160",
          "status": "completed"
        },
        "tags": []
      },
      "outputs": [],
      "source": [
        "test_data= URL_Converter(urls)"
      ]
    },
    {
      "cell_type": "code",
      "execution_count": null,
      "id": "abd06f43",
      "metadata": {
        "execution": {
          "iopub.execute_input": "2022-03-19T14:37:55.949424Z",
          "iopub.status.busy": "2022-03-19T14:37:55.948847Z",
          "iopub.status.idle": "2022-03-19T14:37:55.953170Z",
          "shell.execute_reply": "2022-03-19T14:37:55.953621Z",
          "shell.execute_reply.started": "2022-03-19T14:07:44.539694Z"
        },
        "id": "abd06f43",
        "papermill": {
          "duration": 0.080531,
          "end_time": "2022-03-19T14:37:55.953781",
          "exception": false,
          "start_time": "2022-03-19T14:37:55.873250",
          "status": "completed"
        },
        "tags": []
      },
      "outputs": [],
      "source": [
        "models"
      ]
    },
    {
      "cell_type": "code",
      "execution_count": null,
      "id": "7ef55746",
      "metadata": {
        "execution": {
          "iopub.execute_input": "2022-03-19T14:37:56.128113Z",
          "iopub.status.busy": "2022-03-19T14:37:56.127206Z",
          "iopub.status.idle": "2022-03-19T14:41:41.804681Z",
          "shell.execute_reply": "2022-03-19T14:41:41.804173Z",
          "shell.execute_reply.started": "2022-03-19T14:07:44.548183Z"
        },
        "id": "7ef55746",
        "papermill": {
          "duration": 225.766383,
          "end_time": "2022-03-19T14:41:41.804822",
          "exception": false,
          "start_time": "2022-03-19T14:37:56.038439",
          "status": "completed"
        },
        "tags": []
      },
      "outputs": [],
      "source": [
        "for m in models:\n",
        "    print('#############################################')\n",
        "    print('######-Model =>\\033[07m {} \\033[0m'.format(m))\n",
        "    model_ = m()\n",
        "    model_.fit(X_train, y_train)\n",
        "    pred = model_.predict(test_data)\n",
        "    print(pred)"
      ]
    },
    {
      "cell_type": "markdown",
      "id": "24124e5e",
      "metadata": {
        "id": "24124e5e",
        "papermill": {
          "duration": 0.075456,
          "end_time": "2022-03-19T14:41:41.961065",
          "exception": false,
          "start_time": "2022-03-19T14:41:41.885609",
          "status": "completed"
        },
        "tags": []
      },
      "source": [
        "**8 - Final Rreport**"
      ]
    },
    {
      "cell_type": "code",
      "execution_count": null,
      "id": "f07380dc",
      "metadata": {
        "execution": {
          "iopub.execute_input": "2022-03-19T14:41:42.116621Z",
          "iopub.status.busy": "2022-03-19T14:41:42.116054Z",
          "iopub.status.idle": "2022-03-19T14:41:42.123840Z",
          "shell.execute_reply": "2022-03-19T14:41:42.124388Z",
          "shell.execute_reply.started": "2022-03-19T14:14:21.190524Z"
        },
        "id": "f07380dc",
        "papermill": {
          "duration": 0.087148,
          "end_time": "2022-03-19T14:41:42.124550",
          "exception": false,
          "start_time": "2022-03-19T14:41:42.037402",
          "status": "completed"
        },
        "tags": []
      },
      "outputs": [],
      "source": [
        "output = pd.DataFrame({\"Model\":['Decision Tree Classifier','Random Forest Classifier',\n",
        "                                'AdaBoost Classifier','KNeighbors Classifier','SGD Classifier',\n",
        "                                'Extra Trees Classifier','Gaussian NB'],\n",
        "                      \"Accuracy\":accuracy_test})\n",
        "print(output)"
      ]
    },
    {
      "cell_type": "markdown",
      "id": "43e8b68b",
      "metadata": {
        "id": "43e8b68b",
        "papermill": {
          "duration": 0.074679,
          "end_time": "2022-03-19T14:41:42.273846",
          "exception": false,
          "start_time": "2022-03-19T14:41:42.199167",
          "status": "completed"
        },
        "tags": []
      },
      "source": [
        "<a id=\"9\"></a> <br>\n",
        "# ✨ Thanks"
      ]
    }
  ],
  "metadata": {
    "colab": {
      "provenance": [],
      "include_colab_link": true
    },
    "kernelspec": {
      "display_name": "Python 3 (ipykernel)",
      "language": "python",
      "name": "python3"
    },
    "language_info": {
      "codemirror_mode": {
        "name": "ipython",
        "version": 3
      },
      "file_extension": ".py",
      "mimetype": "text/x-python",
      "name": "python",
      "nbconvert_exporter": "python",
      "pygments_lexer": "ipython3",
      "version": "3.10.9"
    },
    "papermill": {
      "default_parameters": {},
      "duration": 582.860483,
      "end_time": "2022-03-19T14:41:43.312455",
      "environment_variables": {},
      "exception": null,
      "input_path": "__notebook__.ipynb",
      "output_path": "__notebook__.ipynb",
      "parameters": {},
      "start_time": "2022-03-19T14:32:00.451972",
      "version": "2.3.3"
    }
  },
  "nbformat": 4,
  "nbformat_minor": 5
}