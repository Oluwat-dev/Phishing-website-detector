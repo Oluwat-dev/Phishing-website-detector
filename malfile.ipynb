{
  "metadata": {
    "kernelspec": {
      "display_name": "Python 3",
      "language": "python",
      "name": "python3"
    },
    "language_info": {
      "codemirror_mode": {
        "name": "ipython",
        "version": 3
      },
      "file_extension": ".py",
      "mimetype": "text/x-python",
      "name": "python",
      "nbconvert_exporter": "python",
      "pygments_lexer": "ipython3",
      "version": "3.7.0"
    },
    "papermill": {
      "default_parameters": {},
      "duration": null,
      "end_time": "2022-03-19T14:32:22.384277",
      "environment_variables": {},
      "exception": null,
      "input_path": null,
      "output_path": null,
      "parameters": {},
      "start_time": "2022-03-19T14:02:01.481317",
      "version": null
    }
  },
  "nbformat": 4,
  "nbformat_minor": 5,
  "cells": [
    {
      "cell_type": "markdown",
      "id": "d3f95463",
      "metadata": {
        "id": "d3f95463",
        "papermill": {
          "duration": 0.044575,
          "end_time": "2022-03-19T14:32:08.868850",
          "exception": false,
          "start_time": "2022-03-19T14:32:08.824275",
          "status": "completed"
        },
        "tags": []
      },
      "source": [
        "### Teesside University MSc Artificial Intelligence<br>\n",
        "\n",
        "---\n",
        "\n",
        "## Machine Learning ICA\n",
        "\n",
        "# Name: Aluko Oluwatobi Adebowale\n",
        "# Student Number: D3724404\n",
        "## Phishing Website Detection Using Machine Learning Models"
      ]
    },
    {
      "cell_type": "markdown",
      "id": "88c8625a",
      "metadata": {
        "id": "88c8625a",
        "papermill": {
          "duration": 0.045714,
          "end_time": "2022-03-19T14:32:08.959446",
          "exception": false,
          "start_time": "2022-03-19T14:32:08.913732",
          "status": "completed"
        },
        "tags": []
      },
      "source": [
        "# **Context**\n",
        "Malicious URLs or malicious website is a very serious threat to cybersecurity. Malicious URLs host unsolicited content (spam, phishing, drive-by downloads, etc.) and lure unsuspecting users to become victims of scams (monetary loss, theft of private information, and malware installation), and cause losses of billions of dollars every year. We have collected this dataset to include a large number of examples of Malicious URLs so that a machine learning-based model can be developed to identify malicious urls so that we can stop them in advance before infecting computer system or spreading through internet.\n",
        "\n",
        "# **Content**\n",
        "I have collected a huge dataset of 651,191 URLs, out of which 428103 benign or safe URLs, 96457 defacement URLs, 94111 phishing URLs, and 32520 malware URLs. The distribution of these URL types is shown in Figure 2 below, generated as a pie chart. As we know one of the most crucial tasks is to curate the dataset for a machine learning project. This dataset has been curated from five different sources.\n",
        "\n",
        "For collecting benign, phishing, malware and defacement URLs we have used [URL dataset (ISCX-URL-2016)](https://www.unb.ca/cic/datasets/url-2016.html) For increasing phishing and malware URLs, I have used [Malware domain black list dataset](http://www.malwaredomains.com/wordpress/?page_id=66). I have increased benign URLs using [faizan git repo](https://github.com/faizann24/Using-machine-learning-to-detect-malicious-URLs/tree/master/data) At last, we have increased more number of phishing URLs using [Phishtank dataset](https://www.phishtank.com/developer_info.php) and [PhishStorm dataset](https://research.aalto.fi/en/datasets/phishstorm--phishing--legitimate-url-dataset(f49465b2-c68a-4182-9171-075f0ed797d5).html) As I have told you that dataset is collected from different sources. So firstly, I have collected the URLs from different sources into a separate data frame and finally merge them to retain only URLs and their class type."
      ]
    },
    {
      "cell_type": "code",
      "execution_count": null,
      "metadata": {},
      "outputs": [],
      "source": [
        "import matplotlib.pyplot as plt\n",
        "\n",
        "# Data from the dataset\n",
        "url_types = ['Benign', 'Defacement', 'Phishing', 'Malware']\n",
        "counts = [428103, 96457, 94111, 32520]\n",
        "percentages = [count / sum(counts) * 100 for count in counts]\n",
        "\n",
        "# Create a pie chart\n",
        "plt.figure(figsize=(8, 6))\n",
        "plt.pie(percentages, labels=url_types, autopct='%1.1f%%', colors=['#4CAF50', '#FF9800', '#F44336', '#2196F3'], startangle=140)\n",
        "plt.title('Figure 2: Distribution of URL Types')\n",
        "plt.axis('equal')\n",
        "plt.show()"
      ]
    },
    {
      "cell_type": "markdown",
      "id": "42fcbcb9",
      "metadata": {
        "id": "42fcbcb9",
        "papermill": {
          "duration": 0.044634,
          "end_time": "2022-03-19T14:32:09.047456",
          "exception": false,
          "start_time": "2022-03-19T14:32:09.002822",
          "status": "completed"
        },
        "tags": []
      },
      "source": [
        "A URL consists of the top-level domain, hostname, paths, and port of the web address, as in the following diagram:"
      ]
    },
    {
      "cell_type": "markdown",
      "id": "2f136ed0",
      "metadata": {
        "id": "2f136ed0",
        "papermill": {
          "duration": 0.042729,
          "end_time": "2022-03-19T14:32:09.227185",
          "exception": false,
          "start_time": "2022-03-19T14:32:09.184456",
          "status": "completed"
        },
        "tags": []
      },
      "source": [
        "<h2 style=\"width: 100%;\n",
        "    margin: 0;\n",
        "    padding: 0;\n",
        "    text-align: center;\">---- Table of contents ----</h2>\n",
        "\n",
        "1. [Importing Libraries](#1)\n",
        "2. [Load Dataset](#2)\n",
        "3. [Meta information of Dataframe](#3)\n",
        "4. [Checking for NaN values](#4)\n",
        "5. [Feature Extraction](#5)\n",
        "6. [Train & Test Split](#6)\n",
        "7. [Training models](#7)\n",
        "  <ul>\n",
        "      <li>✔️ Decision Tree Classifier</li>\n",
        "      <li>✔️ Random Forest Classifier</li>\n",
        "      <li>✔️ AdaBoost Classifier</li>\n",
        "      <li>✔️ KNeighbors Classifier</li>\n",
        "      <li>✔️ SGD Classifier</li>\n",
        "      <li>✔️ Extra Trees Classifier</li>\n",
        "      <li>✔️ Gaussian NB</li>\n",
        "  </ul>\n",
        "8. [Final Report](#8)"
      ]
    },
    {
      "cell_type": "code",
      "execution_count": 1,
      "id": "e237e93f",
      "metadata": {
        "execution": {
          "iopub.execute_input": "2022-03-19T14:32:09.323167Z",
          "iopub.status.busy": "2022-03-19T14:32:09.322125Z",
          "iopub.status.idle": "2022-03-19T14:32:18.249508Z",
          "shell.execute_reply": "2022-03-19T14:32:18.248736Z",
          "shell.execute_reply.started": "2022-03-19T14:02:01.481317Z"
        },
        "id": "e237e93f",
        "outputId": "c829ac51-4570-497a-dc4a-55b2ac2f6436",
        "papermill": {
          "duration": 8.979924,
          "end_time": "2022-03-19T14:32:18.249655",
          "exception": false,
          "start_time": "2022-03-19T14:32:09.269731",
          "status": "completed"
        },
        "tags": []
      },
      "outputs": [
        {
          "name": "stdout",
          "output_type": "stream",
          "text": [
            "Collecting tld\n",
            "  Downloading tld-0.12.6-py37-none-any.whl (412 kB)\n",
            "     |████████████████████████████████| 412 kB 5.1 MB/s            \n",
            "Installing collected packages: tld\n",
            "Successfully installed tld-0.12.6\n",
            "\u001b[33mWARNING: Running pip as the 'root' user can result in broken permissions and conflicting behaviour with the system package manager. It is recommended to use a virtual environment instead: https://pip.pypa.io/warnings/venv\u001b[0m\n"
          ]
        }
      ],
      "source": [
        "# extract the domain name from a URL (Extract the top level domain (TLD) from the URL given).\n",
        "\n",
        "!pip install tld"
      ]
    },
    {
      "cell_type": "markdown",
      "id": "cd3d013f",
      "metadata": {
        "id": "cd3d013f",
        "papermill": {
          "duration": 0.043639,
          "end_time": "2022-03-19T14:32:18.338352",
          "exception": false,
          "start_time": "2022-03-19T14:32:18.294713",
          "status": "completed"
        },
        "tags": []
      },
      "source": [
        "<a id=\"1\"></a> <br>\n",
        "# 📥 Importing Libraries"
      ]
    },
    {
      "cell_type": "code",
      "execution_count": 2,
      "id": "57e8571f",
      "metadata": {
        "execution": {
          "iopub.execute_input": "2022-03-19T14:32:18.434325Z",
          "iopub.status.busy": "2022-03-19T14:32:18.433365Z",
          "iopub.status.idle": "2022-03-19T14:32:19.711941Z",
          "shell.execute_reply": "2022-03-19T14:32:19.711413Z",
          "shell.execute_reply.started": "2022-03-19T14:02:11.173640Z"
        },
        "id": "57e8571f",
        "papermill": {
          "duration": 1.329368,
          "end_time": "2022-03-19T14:32:19.712091",
          "exception": false,
          "start_time": "2022-03-19T14:32:18.382723",
          "status": "completed"
        },
        "tags": []
      },
      "outputs": [],
      "source": [
        "import re\n",
        "import numpy as np\n",
        "import pandas as pd\n",
        "import seaborn as sns\n",
        "import matplotlib.pyplot as plt\n",
        "from sklearn import tree\n",
        "\n",
        "from colorama import Fore  #Colorama is a module to color the python outputs\n",
        "\n",
        "from urllib.parse import urlparse\n",
        "# This module defines a standard interface to break Uniform Resource Locator (URL)\n",
        "# strings up in components (addressing scheme, network location, path etc.),\n",
        "# to combine the components back into a URL string,\n",
        "# and to convert a “relative URL” to an absolute URL given a “base URL.”\n",
        "\n",
        "from sklearn.model_selection import train_test_split\n",
        "from sklearn.metrics import confusion_matrix, classification_report, accuracy_score\n",
        "from sklearn.tree import DecisionTreeClassifier\n",
        "from sklearn.ensemble import RandomForestClassifier, AdaBoostClassifier, ExtraTreesClassifier\n",
        "from sklearn.neighbors import KNeighborsClassifier\n",
        "from sklearn.linear_model import SGDClassifier\n",
        "from sklearn.naive_bayes import GaussianNB\n",
        "from tld import get_tld, is_tld"
      ]
    },
    {
      "cell_type": "markdown",
      "id": "baafbc2d",
      "metadata": {
        "id": "baafbc2d",
        "papermill": {
          "duration": 0.043308,
          "end_time": "2022-03-19T14:32:19.800125",
          "exception": false,
          "start_time": "2022-03-19T14:32:19.756817",
          "status": "completed"
        },
        "tags": []
      },
      "source": [
        "<a id=\"2\"></a> <br>\n",
        "# 🗃️ Load Dataset"
      ]
    },
    {
      "cell_type": "code",
      "execution_count": 3,
      "id": "08172291",
      "metadata": {
        "execution": {
          "iopub.execute_input": "2022-03-19T14:32:19.892243Z",
          "iopub.status.busy": "2022-03-19T14:32:19.891626Z",
          "iopub.status.idle": "2022-03-19T14:32:21.354995Z",
          "shell.execute_reply": "2022-03-19T14:32:21.355586Z",
          "shell.execute_reply.started": "2022-03-19T14:02:12.476516Z"
        },
        "id": "08172291",
        "outputId": "3d779cf4-d9de-4af7-f880-4f22cc361e79",
        "papermill": {
          "duration": 1.511564,
          "end_time": "2022-03-19T14:32:21.355752",
          "exception": false,
          "start_time": "2022-03-19T14:32:19.844188",
          "status": "completed"
        },
        "tags": []
      },
      "outputs": [
        {
          "data": {
            "text/html": [
              "<div>\n",
              "<style scoped>\n",
              "    .dataframe tbody tr th:only-of-type {\n",
              "        vertical-align: middle;\n",
              "    }\n",
              "\n",
              "    .dataframe tbody tr th {\n",
              "        vertical-align: top;\n",
              "    }\n",
              "\n",
              "    .dataframe thead th {\n",
              "        text-align: right;\n",
              "    }\n",
              "</style>\n",
              "<table border=\"1\" class=\"dataframe\">\n",
              "  <thead>\n",
              "    <tr style=\"text-align: right;\">\n",
              "      <th></th>\n",
              "      <th>url</th>\n",
              "      <th>type</th>\n",
              "    </tr>\n",
              "  </thead>\n",
              "  <tbody>\n",
              "    <tr>\n",
              "      <th>0</th>\n",
              "      <td>br-icloud.com.br</td>\n",
              "      <td>phishing</td>\n",
              "    </tr>\n",
              "    <tr>\n",
              "      <th>1</th>\n",
              "      <td>mp3raid.com/music/krizz_kaliko.html</td>\n",
              "      <td>benign</td>\n",
              "    </tr>\n",
              "    <tr>\n",
              "      <th>2</th>\n",
              "      <td>bopsecrets.org/rexroth/cr/1.htm</td>\n",
              "      <td>benign</td>\n",
              "    </tr>\n",
              "    <tr>\n",
              "      <th>3</th>\n",
              "      <td>http://www.garage-pirenne.be/index.php?option=...</td>\n",
              "      <td>defacement</td>\n",
              "    </tr>\n",
              "    <tr>\n",
              "      <th>4</th>\n",
              "      <td>http://adventure-nicaragua.net/index.php?optio...</td>\n",
              "      <td>defacement</td>\n",
              "    </tr>\n",
              "    <tr>\n",
              "      <th>5</th>\n",
              "      <td>http://buzzfil.net/m/show-art/ils-etaient-loin...</td>\n",
              "      <td>benign</td>\n",
              "    </tr>\n",
              "    <tr>\n",
              "      <th>6</th>\n",
              "      <td>espn.go.com/nba/player/_/id/3457/brandon-rush</td>\n",
              "      <td>benign</td>\n",
              "    </tr>\n",
              "    <tr>\n",
              "      <th>7</th>\n",
              "      <td>yourbittorrent.com/?q=anthony-hamilton-soulife</td>\n",
              "      <td>benign</td>\n",
              "    </tr>\n",
              "    <tr>\n",
              "      <th>8</th>\n",
              "      <td>http://www.pashminaonline.com/pure-pashminas</td>\n",
              "      <td>defacement</td>\n",
              "    </tr>\n",
              "    <tr>\n",
              "      <th>9</th>\n",
              "      <td>allmusic.com/album/crazy-from-the-heat-r16990</td>\n",
              "      <td>benign</td>\n",
              "    </tr>\n",
              "    <tr>\n",
              "      <th>10</th>\n",
              "      <td>corporationwiki.com/Ohio/Columbus/frank-s-bens...</td>\n",
              "      <td>benign</td>\n",
              "    </tr>\n",
              "    <tr>\n",
              "      <th>11</th>\n",
              "      <td>http://www.ikenmijnkunst.nl/index.php/expositi...</td>\n",
              "      <td>defacement</td>\n",
              "    </tr>\n",
              "    <tr>\n",
              "      <th>12</th>\n",
              "      <td>myspace.com/video/vid/30602581</td>\n",
              "      <td>benign</td>\n",
              "    </tr>\n",
              "    <tr>\n",
              "      <th>13</th>\n",
              "      <td>http://www.lebensmittel-ueberwachung.de/index....</td>\n",
              "      <td>defacement</td>\n",
              "    </tr>\n",
              "    <tr>\n",
              "      <th>14</th>\n",
              "      <td>http://www.szabadmunkaero.hu/cimoldal.html?sta...</td>\n",
              "      <td>defacement</td>\n",
              "    </tr>\n",
              "    <tr>\n",
              "      <th>15</th>\n",
              "      <td>http://larcadelcarnevale.com/catalogo/palloncini</td>\n",
              "      <td>defacement</td>\n",
              "    </tr>\n",
              "    <tr>\n",
              "      <th>16</th>\n",
              "      <td>quickfacts.census.gov/qfd/maps/iowa_map.html</td>\n",
              "      <td>benign</td>\n",
              "    </tr>\n",
              "    <tr>\n",
              "      <th>17</th>\n",
              "      <td>nugget.ca/ArticleDisplay.aspx?archive=true&e=1...</td>\n",
              "      <td>benign</td>\n",
              "    </tr>\n",
              "    <tr>\n",
              "      <th>18</th>\n",
              "      <td>uk.linkedin.com/pub/steve-rubenstein/8/718/755</td>\n",
              "      <td>benign</td>\n",
              "    </tr>\n",
              "    <tr>\n",
              "      <th>19</th>\n",
              "      <td>http://www.vnic.co/khach-hang.html</td>\n",
              "      <td>defacement</td>\n",
              "    </tr>\n",
              "  </tbody>\n",
              "</table>\n",
              "</div>"
            ],
            "text/plain": [
              "                                                  url        type\n",
              "0                                    br-icloud.com.br    phishing\n",
              "1                 mp3raid.com/music/krizz_kaliko.html      benign\n",
              "2                     bopsecrets.org/rexroth/cr/1.htm      benign\n",
              "3   http://www.garage-pirenne.be/index.php?option=...  defacement\n",
              "4   http://adventure-nicaragua.net/index.php?optio...  defacement\n",
              "5   http://buzzfil.net/m/show-art/ils-etaient-loin...      benign\n",
              "6       espn.go.com/nba/player/_/id/3457/brandon-rush      benign\n",
              "7      yourbittorrent.com/?q=anthony-hamilton-soulife      benign\n",
              "8        http://www.pashminaonline.com/pure-pashminas  defacement\n",
              "9       allmusic.com/album/crazy-from-the-heat-r16990      benign\n",
              "10  corporationwiki.com/Ohio/Columbus/frank-s-bens...      benign\n",
              "11  http://www.ikenmijnkunst.nl/index.php/expositi...  defacement\n",
              "12                     myspace.com/video/vid/30602581      benign\n",
              "13  http://www.lebensmittel-ueberwachung.de/index....  defacement\n",
              "14  http://www.szabadmunkaero.hu/cimoldal.html?sta...  defacement\n",
              "15   http://larcadelcarnevale.com/catalogo/palloncini  defacement\n",
              "16       quickfacts.census.gov/qfd/maps/iowa_map.html      benign\n",
              "17  nugget.ca/ArticleDisplay.aspx?archive=true&e=1...      benign\n",
              "18     uk.linkedin.com/pub/steve-rubenstein/8/718/755      benign\n",
              "19                 http://www.vnic.co/khach-hang.html  defacement"
            ]
          },
          "execution_count": 3,
          "metadata": {},
          "output_type": "execute_result"
        }
      ],
      "source": [
        "data = pd.read_csv('/content/malicious_phish.csv')\n",
        "data.head(20)"
      ]
    },
    {
      "cell_type": "markdown",
      "id": "7551ef35",
      "metadata": {
        "id": "7551ef35",
        "papermill": {
          "duration": 0.044322,
          "end_time": "2022-03-19T14:32:21.445630",
          "exception": false,
          "start_time": "2022-03-19T14:32:21.401308",
          "status": "completed"
        },
        "tags": []
      },
      "source": [
        "Website **defacements** are the unauthorized modification of web pages, including the addition, removal, or alteration of existing content. These attacks are commonly carried out by hacktivists, who compromise a website or web server and replace or alter the hosted website information with their own messages."
      ]
    },
    {
      "cell_type": "markdown",
      "id": "120e3356",
      "metadata": {
        "id": "120e3356",
        "papermill": {
          "duration": 0.04416,
          "end_time": "2022-03-19T14:32:21.534395",
          "exception": false,
          "start_time": "2022-03-19T14:32:21.490235",
          "status": "completed"
        },
        "tags": []
      },
      "source": [
        "**Phishing** is a type of social engineering attack often used to steal user data, including login credentials and credit card numbers. It occurs when an attacker, masquerading as a trusted entity, dupes a victim into opening an email, instant message, or text message"
      ]
    },
    {
      "cell_type": "markdown",
      "id": "d5653fbf",
      "metadata": {
        "id": "d5653fbf",
        "papermill": {
          "duration": 0.044691,
          "end_time": "2022-03-19T14:32:21.623666",
          "exception": false,
          "start_time": "2022-03-19T14:32:21.578975",
          "status": "completed"
        },
        "tags": []
      },
      "source": [
        "**Malware** (short for “malicious software”) is a file or code, typically delivered over a network, that infects, explores, steals or conducts virtually any behavior an attacker wants. And because malware comes in so many variants, there are numerous methods to infect computer systems."
      ]
    },
    {
      "cell_type": "markdown",
      "id": "ca29abb5",
      "metadata": {
        "id": "ca29abb5",
        "papermill": {
          "duration": 0.044577,
          "end_time": "2022-03-19T14:32:21.713111",
          "exception": false,
          "start_time": "2022-03-19T14:32:21.668534",
          "status": "completed"
        },
        "tags": []
      },
      "source": [
        "<a id=\"3\"></a> <br>\n",
        "# 📝 Meta information of Dataframe"
      ]
    },
    {
      "cell_type": "code",
      "execution_count": 4,
      "id": "060b4a64",
      "metadata": {
        "execution": {
          "iopub.execute_input": "2022-03-19T14:32:21.871685Z",
          "iopub.status.busy": "2022-03-19T14:32:21.871065Z",
          "iopub.status.idle": "2022-03-19T14:32:21.892183Z",
          "shell.execute_reply": "2022-03-19T14:32:21.892597Z",
          "shell.execute_reply.started": "2022-03-19T14:02:14.332638Z"
        },
        "id": "060b4a64",
        "outputId": "d4b929e7-e4fb-41b5-f520-a3eaecca6235",
        "papermill": {
          "duration": 0.134572,
          "end_time": "2022-03-19T14:32:21.892786",
          "exception": false,
          "start_time": "2022-03-19T14:32:21.758214",
          "status": "completed"
        },
        "tags": []
      },
      "outputs": [
        {
          "name": "stdout",
          "output_type": "stream",
          "text": [
            "<class 'pandas.core.frame.DataFrame'>\n",
            "RangeIndex: 651191 entries, 0 to 651190\n",
            "Data columns (total 2 columns):\n",
            " #   Column  Non-Null Count   Dtype \n",
            "---  ------  --------------   ----- \n",
            " 0   url     651191 non-null  object\n",
            " 1   type    651191 non-null  object\n",
            "dtypes: object(2)\n",
            "memory usage: 9.9+ MB\n"
          ]
        }
      ],
      "source": [
        "data.info()"
      ]
    },
    {
      "cell_type": "markdown",
      "id": "e368886a",
      "metadata": {
        "id": "e368886a",
        "papermill": {
          "duration": 0.045606,
          "end_time": "2022-03-19T14:32:21.983457",
          "exception": false,
          "start_time": "2022-03-19T14:32:21.937851",
          "status": "completed"
        },
        "tags": []
      },
      "source": [
        "<a id=\"4\"></a>\n",
        "# 🔎 Checking for NaN values"
      ]
    },
    {
      "cell_type": "code",
      "execution_count": 5,
      "id": "c84e2bc9",
      "metadata": {
        "execution": {
          "iopub.execute_input": "2022-03-19T14:32:22.077539Z",
          "iopub.status.busy": "2022-03-19T14:32:22.076613Z",
          "iopub.status.idle": "2022-03-19T14:32:22.148531Z",
          "shell.execute_reply": "2022-03-19T14:32:22.148966Z",
          "shell.execute_reply.started": "2022-03-19T14:02:14.419656Z"
        },
        "id": "c84e2bc9",
        "outputId": "e01bf51e-5855-4d66-ec80-f9600054d74b",
        "papermill": {
          "duration": 0.120189,
          "end_time": "2022-03-19T14:32:22.149136",
          "exception": false,
          "start_time": "2022-03-19T14:32:22.028947",
          "status": "completed"
        },
        "tags": []
      },
      "outputs": [
        {
          "data": {
            "text/plain": [
              "url     0\n",
              "type    0\n",
              "dtype: int64"
            ]
          },
          "execution_count": 5,
          "metadata": {},
          "output_type": "execute_result"
        }
      ],
      "source": [
        "data.isnull().sum()"
      ]
    },
    {
      "cell_type": "code",
      "execution_count": 6,
      "id": "750ce304",
      "metadata": {
        "execution": {
          "iopub.execute_input": "2022-03-19T14:32:22.244116Z",
          "iopub.status.busy": "2022-03-19T14:32:22.243190Z",
          "iopub.status.idle": "2022-03-19T14:32:22.285452Z",
          "shell.execute_reply": "2022-03-19T14:32:22.284970Z",
          "shell.execute_reply.started": "2022-03-19T14:02:14.491689Z"
        },
        "id": "750ce304",
        "outputId": "120bfedc-54cd-4d5c-f747-3f4cafb51143",
        "papermill": {
          "duration": 0.091234,
          "end_time": "2022-03-19T14:32:22.285592",
          "exception": false,
          "start_time": "2022-03-19T14:32:22.194358",
          "status": "completed"
        },
        "tags": []
      },
      "outputs": [
        {
          "data": {
            "text/plain": [
              "benign        428103\n",
              "defacement     96457\n",
              "phishing       94111\n",
              "malware        32520\n",
              "Name: type, dtype: int64"
            ]
          },
          "execution_count": 6,
          "metadata": {},
          "output_type": "execute_result"
        }
      ],
      "source": [
        "count = data.type.value_counts()\n",
        "count"
      ]
    }
  ]
}
